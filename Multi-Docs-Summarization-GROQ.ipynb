{
 "cells": [
  {
   "cell_type": "code",
   "execution_count": 2,
   "metadata": {},
   "outputs": [],
   "source": [
    "import os\n",
    "from groq import Groq"
   ]
  },
  {
   "cell_type": "code",
   "execution_count": 3,
   "metadata": {},
   "outputs": [],
   "source": [
    "groq_api_key = \"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\"\n",
    "client = Groq(api_key=groq_api_key)"
   ]
  },
  {
   "cell_type": "code",
   "execution_count": 32,
   "metadata": {},
   "outputs": [],
   "source": [
    "def summarize_text(text, max_words, retries=3):\n",
    "    prompt = f\"Summarize the following text in approximately {max_words} words. It's crucial to keep the summary as close to {max_words} words as possible:\\n\\n{text}\\n\\nSummary:\"\n",
    "\n",
    "    chat_completion = client.chat.completions.create(\n",
    "        messages=[\n",
    "            {\"role\": \"system\", \"content\": f\"You are a helpful assistant that provides concise summaries. Always aim to keep your summaries as close to the requested word count as possible.\"},\n",
    "            {\"role\": \"user\", \"content\": prompt}\n",
    "        ],\n",
    "        model=\"mixtral-8x7b-32768\",\n",
    "        temperature=0.7,\n",
    "        top_p=1,\n",
    "        max_tokens=max_words * 2\n",
    "    )\n",
    "\n",
    "    return chat_completion.choices[0].message.content"
   ]
  },
  {
   "cell_type": "code",
   "execution_count": 5,
   "metadata": {},
   "outputs": [],
   "source": [
    "import PyPDF2\n",
    "import re"
   ]
  },
  {
   "cell_type": "code",
   "execution_count": 6,
   "metadata": {},
   "outputs": [],
   "source": [
    "def clean_text(text):\n",
    "    text = re.sub(r'\\s+', ' ', text)\n",
    "    text = text.strip()\n",
    "    return text"
   ]
  },
  {
   "cell_type": "code",
   "execution_count": 33,
   "metadata": {},
   "outputs": [],
   "source": [
    "def extract_pdf_content(base_path, pdf_file):\n",
    "    full_path = os.path.join(base_path, pdf_file)\n",
    "    with open(full_path, 'rb') as file:\n",
    "        reader = PyPDF2.PdfReader(file)\n",
    "        text = ''\n",
    "        for page in reader.pages:\n",
    "            text += page.extract_text() + '\\n'\n",
    "    return clean_text(text)"
   ]
  },
  {
   "cell_type": "code",
   "execution_count": 8,
   "metadata": {},
   "outputs": [],
   "source": [
    "from langchain.text_splitter import RecursiveCharacterTextSplitter\n",
    "from langchain.schema import Document"
   ]
  },
  {
   "cell_type": "code",
   "execution_count": 52,
   "metadata": {},
   "outputs": [],
   "source": [
    "def splitter_chunks(text, filename):\n",
    "    text_splitter = RecursiveCharacterTextSplitter(chunk_size=1000, chunk_overlap=100)\n",
    "    langchain_doc = Document(page_content=text, metadata={\"source\": filename})\n",
    "    return text_splitter.split_documents([langchain_doc])"
   ]
  },
  {
   "cell_type": "code",
   "execution_count": 64,
   "metadata": {},
   "outputs": [],
   "source": [
    "base_path = 'F:/Super AI SS4/AI-builder/Large-Language-Models-(LLMs)/try-it/Text-Summarization/Dataset/'\n",
    "pdf_files = ['document1.pdf', 'document2.pdf', 'document3.pdf']"
   ]
  },
  {
   "cell_type": "code",
   "execution_count": 65,
   "metadata": {},
   "outputs": [
    {
     "data": {
      "text/plain": [
       "\"Climate change is one of the most pressing global challenges of our time. It refers to long-term shifts in temperature and weather patterns across the Earth. While these changes can occur naturally, the rapid warming we've seen over the past century is primarily due to human activities. The main driver of current climate change is the burning of fossil fuels like coal, oil, and natural gas. These activities release greenhouse gases, primarily carbon dioxide (CO2), into the atmosphere. Greenhouse gases trap heat from the sun, causing the Earth's average temperature to rise – a phenomenon known as global warming. The evidence for climate change is unequivocal. Global temperature records show that the Earth has warmed by approximately 1°C since pre -industrial times. This may seem small, but it represents a significant change in the Earth's energy balance and has far-reaching consequences. One of the most visible effects of climate change is the melting of polar ice and glaciers. The Arctic is warming twice as fast as the global average, leading to dramatic reductions in sea ice. This not only affects Arctic ecosystems but also contributes t o rising sea levels worldwide. Sea level rise is another major concern. As water warms, it expands, and melting land ice adds more water to the oceans. This puts coastal communities at risk of flooding and erosion. Some low -lying island nations are already facing existential threats fro m rising seas. Climate change is also altering precipitation patterns around the world. Some regions are experiencing more frequent and intense droughts, while others are seeing increases in heavy rainfall and flooding. These changes have significant implications for agriculture, water resources, and human settlements. Extreme weather events are becoming more frequent and severe due to climate change. Heatwaves are lasting longer and reaching higher temperatures. Hurricanes and tropical storms are intensifying, fueled by warmer ocean waters. Wildfires are burning larger areas and occurring in places where they were once rare. The impacts of climate change extend to ecosystems and biodiversity. Many plant and animal species are struggling to adapt to rapidly changing conditions. Some are shifting their ranges to cooler areas, while others face the risk of extinction if they cannot adapt quickly enough. Ocean acidification is another consequence of increased CO2 in the atmosphere. As the ocean absorbs more CO2, it becomes more acidic, threatening marine ecosystems, particularly coral reefs and shellfish. Human societies are also feeling the effects of climate change. Agriculture is particularly vulnerable, with changing weather patterns affecting crop yields and food security. Extreme weather events can damage infrastructure and disrupt economic activities. Climate-related displacement and migration are becoming increasingly common in some parts of the world. The urgency of addressing climate change has led to international efforts like the Paris Agreement, which aims to limit global warming to well below 2°C above pre - industrial levels. This requires significant reductions in greenhouse gas emissions and a transition to cleaner energy sources. Renewable energy technologies like solar and wind power are playing a crucial role in this transition. Energy efficiency improvements in buildings, transportation, and industry are also essential for reducing emissions. However, even with ambitious mitigation efforts, some degree of further warming is locked in due to the long -lived nature of greenhouse gases in the atmosphere. This makes adaptation strategies crucial for managing the impacts of climate change that we cannot avoid. Climate change is a complex, multifaceted issue that touches on nearly every aspect of our lives and the natural world. Understanding its causes, impacts, and potential solutions is crucial for individuals, communities, and nations as we work together to address this global challenge.\""
      ]
     },
     "execution_count": 65,
     "metadata": {},
     "output_type": "execute_result"
    }
   ],
   "source": [
    "first_content = extract_pdf_content(base_path, pdf_files[0])\n",
    "first_content"
   ]
  },
  {
   "cell_type": "code",
   "execution_count": 66,
   "metadata": {},
   "outputs": [
    {
     "name": "stdout",
     "output_type": "stream",
     "text": [
      "Processing document1.pdf...\n",
      "Processing document2.pdf...\n",
      "Processing document3.pdf...\n",
      "Total number of chunks across all documents: 18\n"
     ]
    }
   ],
   "source": [
    "all_chunks = []\n",
    "\n",
    "for pdf_file in pdf_files:\n",
    "    print(f\"Processing {pdf_file}...\")\n",
    "    content = extract_pdf_content(base_path, pdf_file)\n",
    "    chunks = splitter_chunks(content, pdf_file)\n",
    "    all_chunks.extend(chunks)\n",
    "\n",
    "print(f\"Total number of chunks across all documents: {len(all_chunks)}\")"
   ]
  },
  {
   "cell_type": "code",
   "execution_count": 67,
   "metadata": {},
   "outputs": [
    {
     "data": {
      "text/plain": [
       "[Document(page_content=\"Climate change is one of the most pressing global challenges of our time. It refers to long-term shifts in temperature and weather patterns across the Earth. While these changes can occur naturally, the rapid warming we've seen over the past century is primarily due to human activities. The main driver of current climate change is the burning of fossil fuels like coal, oil, and natural gas. These activities release greenhouse gases, primarily carbon dioxide (CO2), into the atmosphere. Greenhouse gases trap heat from the sun, causing the Earth's average temperature to rise – a phenomenon known as global warming. The evidence for climate change is unequivocal. Global temperature records show that the Earth has warmed by approximately 1°C since pre -industrial times. This may seem small, but it represents a significant change in the Earth's energy balance and has far-reaching consequences. One of the most visible effects of climate change is the melting of polar ice and glaciers. The\", metadata={'source': 'document1.pdf'}),\n",
       " Document(page_content='One of the most visible effects of climate change is the melting of polar ice and glaciers. The Arctic is warming twice as fast as the global average, leading to dramatic reductions in sea ice. This not only affects Arctic ecosystems but also contributes t o rising sea levels worldwide. Sea level rise is another major concern. As water warms, it expands, and melting land ice adds more water to the oceans. This puts coastal communities at risk of flooding and erosion. Some low -lying island nations are already facing existential threats fro m rising seas. Climate change is also altering precipitation patterns around the world. Some regions are experiencing more frequent and intense droughts, while others are seeing increases in heavy rainfall and flooding. These changes have significant implications for agriculture, water resources, and human settlements. Extreme weather events are becoming more frequent and severe due to climate change. Heatwaves are lasting longer and reaching higher', metadata={'source': 'document1.pdf'}),\n",
       " Document(page_content='more frequent and severe due to climate change. Heatwaves are lasting longer and reaching higher temperatures. Hurricanes and tropical storms are intensifying, fueled by warmer ocean waters. Wildfires are burning larger areas and occurring in places where they were once rare. The impacts of climate change extend to ecosystems and biodiversity. Many plant and animal species are struggling to adapt to rapidly changing conditions. Some are shifting their ranges to cooler areas, while others face the risk of extinction if they cannot adapt quickly enough. Ocean acidification is another consequence of increased CO2 in the atmosphere. As the ocean absorbs more CO2, it becomes more acidic, threatening marine ecosystems, particularly coral reefs and shellfish. Human societies are also feeling the effects of climate change. Agriculture is particularly vulnerable, with changing weather patterns affecting crop yields and food security. Extreme weather events can damage infrastructure and disrupt', metadata={'source': 'document1.pdf'}),\n",
       " Document(page_content='crop yields and food security. Extreme weather events can damage infrastructure and disrupt economic activities. Climate-related displacement and migration are becoming increasingly common in some parts of the world. The urgency of addressing climate change has led to international efforts like the Paris Agreement, which aims to limit global warming to well below 2°C above pre - industrial levels. This requires significant reductions in greenhouse gas emissions and a transition to cleaner energy sources. Renewable energy technologies like solar and wind power are playing a crucial role in this transition. Energy efficiency improvements in buildings, transportation, and industry are also essential for reducing emissions. However, even with ambitious mitigation efforts, some degree of further warming is locked in due to the long -lived nature of greenhouse gases in the atmosphere. This makes adaptation strategies crucial for managing the impacts of climate change that we cannot avoid.', metadata={'source': 'document1.pdf'}),\n",
       " Document(page_content='adaptation strategies crucial for managing the impacts of climate change that we cannot avoid. Climate change is a complex, multifaceted issue that touches on nearly every aspect of our lives and the natural world. Understanding its causes, impacts, and potential solutions is crucial for individuals, communities, and nations as we work together to address this global challenge.', metadata={'source': 'document1.pdf'}),\n",
       " Document(page_content='The environmental impacts of climate change are profound and far -reaching, affecting ecosystems, biodiversity, and natural resources across the globe. As the Earth\\'s average temperature continues to rise, we are witnessing a cascade of effects that are reshaping our natural world. One of the most significant impacts is on biodiversity. Many species are struggling to adapt to rapidly changing conditions, leading to shifts in their geographic ranges, alterations in the timing of biological events (such as flowering and migration), and in some cases, extinction. The rate of climate change is outpacing the ability of many species to adapt, particularly those with long generation times or limited mobility. Coral reefs, often called the \"rainforests of the sea,\" are particularly vulnerable to climate change. Rising ocean temperatures cause coral bleaching, where corals expel the colorful algae living in their tissues, leaving them white and vulnerable. Severe or prolonged bleaching can kill', metadata={'source': 'document2.pdf'}),\n",
       " Document(page_content='living in their tissues, leaving them white and vulnerable. Severe or prolonged bleaching can kill entire coral colonies, devastating these incredibly biodiverse ecosystems. Forests, another crucial ecosystem, are also feeling the effects of climate change. Warmer temperatures and altered precipitation patterns are changing the composition of forests and making them more vulnerable to pests and diseases. In some regions, parti cularly boreal forests, trees are growing faster due to longer growing seasons. However, this is often offset by increased mortality from drought, fires, and insect outbreaks. Climate change is altering the water cycle on a global scale. Some regions are experiencing more frequent and severe droughts, while others are seeing increases in precipitation and flooding. These changes have significant implications for freshwater ecosystems, agriculture, and water availability for human use. In polar regions, the impacts of climate change are particularly dramatic. The', metadata={'source': 'document2.pdf'}),\n",
       " Document(page_content=\"for human use. In polar regions, the impacts of climate change are particularly dramatic. The Arctic is warming at more than twice the global average rate, leading to rapid sea ice loss. This not only affects Arctic species like polar bears and seals but also has global implications, as sea ice plays a crucial role in regulating Earth's climate. The melting of land -based ice, particularly in Greenland and Antarctica, is contributing to sea level rise. This threatens coastal and marine ecosystems, including mangroves and salt marshes, which provide crucial habitats and protect coastlines from storm s. Ocean acidification, caused by the absorption of excess CO2 by seawater, is another major concern. More acidic waters make it difficult for marine organisms like corals, mollusks, and some plankton to build their calcium carbonate shells or skeletons. This has potential ripple effects throughout marine food webs. Climate change is also influencing the frequency and intensity of wildfires\", metadata={'source': 'document2.pdf'}),\n",
       " Document(page_content='marine food webs. Climate change is also influencing the frequency and intensity of wildfires in many parts of the world. Longer, hotter dry seasons create conditions conducive to larger and more severe fires. While fire is a natural part of many ecosystems, the increased frequency and intensity of fires can overwhelm the ability of these systems to recover. The thawing of permafrost in Arctic regions is releasing greenhouse gases (methane and CO2) that have been locked in frozen soils for thousands of years. This creates a feedback loop, where the released gases contribute to further warming, which in turn leads to more permafrost thaw. Changes in temperature and precipitation patterns are affecting the timing of seasonal events in the natural world, a phenomenon known as phenological shifts. This can lead to mismatches between interdependent species, such as plants and their pollinators, or predators and their prey. Invasive species are another concern related to climate change. As', metadata={'source': 'document2.pdf'}),\n",
       " Document(page_content='or predators and their prey. Invasive species are another concern related to climate change. As temperatures warm, some invasive plants and animals are able to expand their ranges into areas that were previously too cold for them to survive. This can put additional pressure on native species already struggling with changing conditions. The loss of ice in polar and high mountain regions is not only affecting local ecosystems but also changing global patterns of air and ocean circulation. This has far-reaching effects on weather patterns around the world. Climate change is also exacerbating other environmental stressors, such as habitat loss, pollution, and overexploitation of natural resources. The combined effects of these pressures are pushing many ecosystems towards tipping points, beyond which rapid and potentially irreversible changes may occur. Understanding and addressing these environmental impacts is crucial for preserving biodiversity, maintaining ecosystem services, and', metadata={'source': 'document2.pdf'}),\n",
       " Document(page_content='environmental impacts is crucial for preserving biodiversity, maintaining ecosystem services, and ensuring the long -term health of our planet. It requires not only efforts to mitigate further climate change but also strategies to help natural systems adapt to the changes that are already underway.', metadata={'source': 'document2.pdf'}),\n",
       " Document(page_content='The economic consequences of climate change are far -reaching and complex, affecting various sectors of the global economy in both direct and indirect ways. As the world grapples with the challenges posed by a changing climate, the economic implications are becoming increasingly apparent and urgent. One of the most immediate economic impacts of climate change is the increased frequency and severity of extreme weather events. Hurricanes, floods, droughts, and wildfires are causing billions of dollars in damages each year. The insurance industry is particularly affected, with rising claims leading to higher premiums and, in some high-risk areas, the potential unavailability of coverage. This not only affects individuals and businesses directly but also has broader implications for economic stability and development in vulnerable regions. Agriculture, a sector directly dependent on climate conditions, is facing significant challenges. Changes in temperature and precipitation patterns are', metadata={'source': 'document3.pdf'}),\n",
       " Document(page_content=\"conditions, is facing significant challenges. Changes in temperature and precipitation patterns are affecting crop yields and the geographical distribution of suitable farming areas. While some regions may initially benefit from longer growing seasons, many are experiencing reduced productivity due to heat stress, changes in pest and disease patterns, and water scarcity. These changes have implications not only for farmers' livelihoods but also for global food security and prices. The energy sector is undergoing a transformation in response to climate change. The push for decarbonization is driving investments in renewable energy sources such as solar, wind, and hydroelectric power. While this transition presents opportunities for innovation and job creation, it also poses challenges for regions and communities dependent on fossil fuel industries. The costs of adapting existing infrastructure to be more resilient to climate impacts are also significant. Tourism, another major global\", metadata={'source': 'document3.pdf'}),\n",
       " Document(page_content='to be more resilient to climate impacts are also significant. Tourism, another major global industry, is feeling the effects of climate change. Coastal resorts are threatened by rising sea levels and more intense storms. Winter sports destinations are grappling with shorter snow seasons. Changes in ecosystems are affecting wildlife tourism. These shifts are forcing the industry to adapt, sometimes by diversifying offerings or relocating facilities, which can have significant economic implications for local communities. The real estate market is also being impacted, particularly in coastal and low -lying areas vulnerable to flooding and sea -level rise. Property values in high -risk areas may decline, while demand increases in areas perceived as more resilient to climate impacts. This can lead to shifts in wealth distribution and challenges for local tax bases. Transportation infrastructure, including roads, railways, and ports, is vulnerable to climate impacts such as extreme heat,', metadata={'source': 'document3.pdf'}),\n",
       " Document(page_content='including roads, railways, and ports, is vulnerable to climate impacts such as extreme heat, flooding, and sea -level rise. The costs of repairing, upgrading, and relocating infrastructure to be more resilient to these impacts are substantial and will likely increase over time. Health-related economic costs are another significant concern. Climate change is expected to increase the prevalence of certain diseases, heat -related illnesses, and air quality issues. This can lead to increased healthcare costs, reduced labor productivity, and strain on public health systems. The transition to a low -carbon economy, while necessary to mitigate climate change, also has economic implications. Industries and regions heavily dependent on fossil fuels may face challenges in the transition, potentially leading to job losses and economic disruption if not managed carefully. However, this transition also presents opportunities for new industries, technologies, and job creation in the green economy.', metadata={'source': 'document3.pdf'}),\n",
       " Document(page_content='presents opportunities for new industries, technologies, and job creation in the green economy. Climate change is also affecting global trade patterns. Changes in agricultural productivity, the opening of new shipping routes in the Arctic, and the need for climate-resilient supply chains are all reshaping international trade flows and relationships. Financial markets are increasingly factoring climate risks into their assessments and investment decisions. This includes both physical risks (such as damage from extreme weather events) and transition risks (related to policy changes, technological shifts , and changing consumer preferences). The need to disclose and manage these risks is becoming a significant factor in corporate governance and investment strategies. Adaptation measures, while necessary, also come with significant costs. Building sea walls, developing drought -resistant crops, improving water management systems, and other adaptation strategies require substantial', metadata={'source': 'document3.pdf'}),\n",
       " Document(page_content='crops, improving water management systems, and other adaptation strategies require substantial investments. While these measures can help reduce long -term economic damages, they represent a significant near -term economic burden, particularly for developing countries. The economic impacts of climate change are not evenly distributed. Developing countries, particularly those in tropical and subtropical regions, are often more vulnerable due to their geographic locations, economic structures, and limited resources for adaptation. This uneven distribution of impacts could exacerbate global economic inequalities. Climate change also poses risks to global economic stability. The potential for climate-related events to disrupt supply chains, cause price shocks in commodities, or trigger large -scale migrations could have far -reaching economic consequences beyond the i mmediately affected regions. Despite these challenges, addressing climate change also presents economic opportunities. The', metadata={'source': 'document3.pdf'}),\n",
       " Document(page_content='Despite these challenges, addressing climate change also presents economic opportunities. The development and deployment of clean technologies, the creation of more resilient infrastructure, and the transition to sustainable practices in various industries can drive innovation, create new markets, and generate employment. The economic consequences of climate change underscore the need for comprehensive, global action to both mitigate further warming and adapt to the changes already underway. This requires not only technological solutions but also policy innovations, interna tional cooperation, and a fundamental shift in how we value and interact with the natural world in our economic systems.', metadata={'source': 'document3.pdf'})]"
      ]
     },
     "execution_count": 67,
     "metadata": {},
     "output_type": "execute_result"
    }
   ],
   "source": [
    "all_chunks"
   ]
  },
  {
   "cell_type": "code",
   "execution_count": null,
   "metadata": {},
   "outputs": [],
   "source": [
    "'''\n",
    "documents = []\n",
    "\n",
    "for i, pdf_file in enumerate(pdf_files, 1):\n",
    "    content = extract_pdf_content(base_path, pdf_file)\n",
    "    document = {\n",
    "        'id': i,\n",
    "        'filename': pdf_file,\n",
    "        'content': content,\n",
    "        'length': len(content)\n",
    "    }\n",
    "    documents.append(document)\n",
    "\n",
    "for doc in documents:\n",
    "    print(f\"Document ID: {doc['id']}\")\n",
    "    print(f\"Filename: {doc['filename']}\")\n",
    "    print(f\"Content length: {doc['length']} characters\")\n",
    "    print(f\"Preview: {doc['content'][:100]}...\")\n",
    "    print(\"\\n\" + \"=\"*50 + \"\\n\")\n",
    "'''"
   ]
  },
  {
   "cell_type": "code",
   "execution_count": 68,
   "metadata": {},
   "outputs": [],
   "source": [
    "import time"
   ]
  },
  {
   "cell_type": "code",
   "execution_count": 69,
   "metadata": {},
   "outputs": [
    {
     "name": "stdout",
     "output_type": "stream",
     "text": [
      "Summarizing chunk 1/18...\n",
      "Summarizing chunk 2/18...\n",
      "Summarizing chunk 3/18...\n",
      "Summarizing chunk 4/18...\n",
      "Summarizing chunk 5/18...\n",
      "Summarizing chunk 6/18...\n",
      "Summarizing chunk 7/18...\n",
      "Summarizing chunk 8/18...\n",
      "Summarizing chunk 9/18...\n",
      "Summarizing chunk 10/18...\n",
      "Summarizing chunk 11/18...\n",
      "Summarizing chunk 12/18...\n",
      "Summarizing chunk 13/18...\n",
      "Summarizing chunk 14/18...\n",
      "Summarizing chunk 15/18...\n",
      "Summarizing chunk 16/18...\n",
      "Summarizing chunk 17/18...\n",
      "Summarizing chunk 18/18...\n"
     ]
    }
   ],
   "source": [
    "chunk_summaries = []\n",
    "\n",
    "for i, chunk in enumerate(all_chunks, 1):\n",
    "    print(f\"Summarizing chunk {i}/{len(all_chunks)}...\")\n",
    "    summary = summarize_text(chunk.page_content, 100)\n",
    "    if summary:\n",
    "        chunk_summaries.append(summary)\n",
    "    time.sleep(1)"
   ]
  },
  {
   "cell_type": "code",
   "execution_count": 70,
   "metadata": {},
   "outputs": [
    {
     "data": {
      "text/plain": [
       "[\"Climate change, a pressing global issue, involves long-term shifts in temperature and weather patterns, largely caused by human activities since the 1800s. The burning of fossil fuels releases greenhouse gases, particularly carbon dioxide, trapping heat from the sun and leading to global warming. Evidence shows a 1°C rise in Earth's average temperature since industrial times, causing polar ice and glacier melting. This summary is approximately 100 words, providing a concise overview of the text.\",\n",
       " 'Climate change is causing the polar ice and glaciers to melt, resulting in faster warming in the Arctic and contributing to sea level rises worldwide. Coastal communities face floods and erosion due to expanding warmer water and added meltwater. Low-lying island nations are particularly at risk. Precipitation patterns are changing, leading to increased droughts and heavy rainfall in various regions, impacting agriculture, water resources, and human settlements. Extreme weather events, such as longer-lasting, more severe heatwaves, are becoming more frequent.',\n",
       " 'Climate change, intensified by human activities, leads to extreme weather events such as prolonged heatwaves, intense hurricanes, and expansive wildfires. Ecosystems and biodiversity suffer as well, with plant and animal species compelled to migrate or risk extinction due to rapidly changing conditions. Ocean acidification, caused by increased CO2 absorption, threatens marine life, particularly coral reefs and shellfish. Human societies face challenges too, as agriculture is affected by shifting weather patterns, and infrastructure may be damaged by severe weather events, impacting food security.',\n",
       " 'Climate change poses significant challenges to crop yields, food security, and global infrastructure due to extreme weather events and displacement. The Paris Agreement strives to limit warming to under 2°C above pre-industrial levels, necessitating reduced greenhouse gas emissions and cleaner energy sources, such as solar and wind power. Energy efficiency improvements are also vital in buildings, transportation, and industry. However, due to the long-lived nature of greenhouse gases, some warming is unavoidable, making adaptation strategies essential for managing climate change impacts.',\n",
       " 'Adaptation strategies are vital for managing unavoidable climate change impacts. This complex issue affects nearly every aspect of life and the natural world. To address it, understanding its causes, effects, and solutions is essential for individuals, communities, and nations. Cooperation is key in tackling this global challenge.',\n",
       " 'Climate change significantly impacts the environment, ecosystems, biodiversity, and natural resources worldwide. The Earth\\'s rising average temperature is causing a cascade of effects, with a profound impact on biodiversity. Many species cannot adapt quickly enough to changing conditions, leading to shifts in geographic ranges, altered biological events, and extinction. Particularly vulnerable are coral reefs, often called \"rainforests of the sea,\" which experience coral bleaching due to rising ocean temperatures. This occurs when corals expel algae, leaving them white and vulnerable; severe or prolonged bleaching can cause widespread coral death.',\n",
       " 'Coral reefs are bleaching and dying due to climate change, threatening their rich biodiversity. Forests are experiencing altered compositions, increased vulnerability to pests and diseases, and faster growth offset by higher mortality rates from drought, fires, and insect outbreaks. The water cycle is being disrupted, leading to more frequent droughts and floods, impacting freshwater ecosystems, agriculture, and water availability. Polar regions are experiencing dramatic changes, such as melting ice and altered wildlife populations. Climate change significantly impacts various ecosystems, affecting their survival and the services they provide.',\n",
       " 'Climate change significantly impacts the Earth, with polar regions experiencing dramatic effects such as rapid sea ice loss in the Arctic, which is warming at more than twice the global average rate. This has global implications, contributing to sea level rise due to melting land-based ice in Greenland and Antarctica. Ocean acidification, caused by CO2 absorption, threatens marine life like corals and mollusks, affecting marine food webs. Climate change also influences wildfire frequency and intensity. These changes pose serious threats to ecosystems, species, and human habitats, necessitating urgent action to mitigate climate change impacts.',\n",
       " 'Climate change significantly impacts marine food webs and terrestrial ecosystems. Longer, hotter dry seasons lead to intense wildfires, disrupting ecosystem recovery. Melting Arctic permafrost releases greenhouse gases, creating a feedback loop of further warming. Temperature and precipitation shifts cause phenological mismatches between interdependent species. Invasive species, aided by climate change, pose additional concerns. These disruptions threaten biodiversity and ecosystem stability, emphasizing the urgent need to address climate change.',\n",
       " 'Climate change significantly impacts ecosystems, leading to alterations in species interactions, invasive species expansion, and modifications in global circulation patterns. It intensifies other environmental stressors, driving ecosystems towards potential tipping points that could result in rapid, irreversible changes. Addressing these impacts is vital for preserving biodiversity, maintaining ecosystem services, and ensuring sustainable human development. The consequences of climate change are interconnected and far-reaching, necessitating comprehensive understanding and action.',\n",
       " 'Addressing environmental impacts is essential for preserving biodiversity, maintaining ecosystem services, and ensuring long-term planetary health. This involves mitigating ongoing climate change and developing strategies for natural systems to adapt to already occurring alterations. The focus should be on comprehensive efforts that not only reduce human impact but also enable ecosystems to adjust and thrive in the face of climate change.',\n",
       " 'Climate change has far-reaching and complex economic consequences, with extreme weather events and agricultural challenges being particularly impactful. The increased frequency and severity of hurricanes, floods, droughts, and wildfires cause billions in damages annually, affecting the insurance industry and leading to higher premiums or unavailability of coverage in high-risk areas. This has broader implications for economic stability and development. Agriculture, which depends on climate conditions, faces significant difficulties due to changing temperature and precipitation patterns. Addressing these economic impacts is crucial as the world grapples with a changing climate.',\n",
       " \"Climate change poses significant challenges to various sectors. Agriculture is affected by altered temperature and precipitation patterns, causing crop yield changes and shifts in suitable farming areas. Although some regions might initially benefit from longer growing seasons, many face reduced productivity due to heat stress, altered pest and disease patterns, and water scarcity. These changes impact farmers' livelihoods and global food security. The energy sector transformation includes a shift towards renewable sources like solar, wind, and hydroelectric power, presenting opportunities for innovation and job creation but challenging regions reliant on fossil fuels. Infrastructure adaptation costs and tourism industry changes further highlight the wide-ranging impacts of climate change.\",\n",
       " 'Climate change significantly impacts various global industries. Tourism, particularly coastal resorts and winter sports destinations, faces threats from rising sea levels, intense storms, and shorter snow seasons, forcing adaptation and economic implications for local communities. The real estate market sees property value declines in high-risk areas but increases in perceived safe zones, leading to wealth distribution shifts and local tax base challenges. Transportation infrastructure, such as roads, railways, and ports, is vulnerable to climate impacts like extreme heat, requiring resilience measures. These changes necessitate proactive approaches from industries and governments to mitigate climate risks and ensure long-term sustainability.',\n",
       " 'Infrastructure, including roads, railways, and ports, faces climate change impacts like extreme heat, flooding, and sea-level rise, leading to costly repairs, upgrades, and relocations. Health issues from climate change, such as disease prevalence, heat-related illnesses, and air quality problems, may cause increased healthcare costs, reduced labor productivity, and strained public health systems. Transitioning to a low-carbon economy is crucial to mitigate climate change, but it presents economic challenges for fossil fuel-dependent industries, potentially causing job losses and disruption. On the other hand, this transition offers opportunities for new industries, technologies, and job creation in the green economy.',\n",
       " 'Climate change presents opportunities for a green economy, including new industries, technologies, and jobs. It also impacts global trade, affecting agricultural productivity, opening Arctic shipping routes, and necessitating climate-resilient supply chains. Financial markets consider climate risks in their decisions, including physical risks like extreme weather damage and transition risks from policy changes, technological shifts, and altered consumer preferences. Corporate governance and investment strategies must manage and disclose these risks. Adaptation measures are crucial but costly, involving infrastructure improvements, crop development, and water management systems.',\n",
       " 'Adapting to climate change through measures such as improving crop growth and water management systems requires significant investments, particularly for developing countries, posing a near-term economic burden. The economic impacts of climate change are often more severe for developing countries in tropical and subtropical regions due to geographic location, economic structure, and limited adaptation resources, potentially increasing global economic inequalities. Climate-related events could disrupt supply chains, cause commodity price shocks, and trigger migrations, affecting global economic stability. Despite these challenges, addressing climate change offers economic opportunities.',\n",
       " 'Tackling climate change offers significant economic opportunities, such as developing and deploying clean technologies, creating resilient infrastructure, and encouraging sustainable practices across industries. These actions can drive innovation, establish new markets, and generate employment. However, the economic consequences of climate change necessitate comprehensive, global action to mitigate further warming and adapt to existing changes. This requires not just technological solutions, but policy innovations, international cooperation, and a shift in how we value nature within our economic systems.']"
      ]
     },
     "execution_count": 70,
     "metadata": {},
     "output_type": "execute_result"
    }
   ],
   "source": [
    "chunk_summaries"
   ]
  },
  {
   "cell_type": "code",
   "execution_count": 73,
   "metadata": {},
   "outputs": [
    {
     "name": "stdout",
     "output_type": "stream",
     "text": [
      "Climate change, largely caused by human activities since the 1800s, involves long-term shifts in temperature and weather patterns due to increased greenhouse gas emissions, primarily carbon dioxide. These shifts result in various impacts, including:\n",
      "\n",
      "1. Rising global temperatures: A 1°C increase since industrial times has caused polar ice and glacier melting, contributing to sea level rises and threatening coastal communities with floods and erosion.\n",
      "2. Extreme weather events: Climate change intensifies weather events, leading to longer, more severe heatwaves, intense hurricanes, and expansive wildfires, which affect ecosystems, biodiversity, and human societies.\n",
      "3. Impact on ecosystems and biodiversity: As temperatures shift, plant and animal species must migrate or risk extinction. Ocean acidification threatens marine life, particularly coral reefs and shellfish.\n",
      "4. Economic consequences: Climate change has far-reaching economic impacts, including damages from extreme weather events, agricultural challenges, and infrastructure adaptation costs.\n",
      "5. Industry impacts: Various global industries face challenges, such as tourism, real estate, transportation, and health, requiring proactive approaches to mitigate climate risks.\n",
      "6. Opportunities in a green economy: Addressing climate change offers economic opportunities, including new industries, technologies, and job creation in the green economy.\n",
      "\n",
      "Mitigating ongoing climate change and developing adaptation strategies are vital for preserving biodiversity, maintaining ecosystem services, and ensuring long-term planetary health and sustainable human development. Comprehensive understanding and action are required, involving not just technological solutions but policy innovations, international cooperation, and a shift in how we value nature within our economic systems.\n"
     ]
    }
   ],
   "source": [
    "combined_summaries = \"\\n\\n\".join(chunk_summaries)\n",
    "final_summary = summarize_text(combined_summaries, 250)\n",
    "\n",
    "print(final_summary)"
   ]
  }
 ],
 "metadata": {
  "kernelspec": {
   "display_name": "Python 3",
   "language": "python",
   "name": "python3"
  },
  "language_info": {
   "codemirror_mode": {
    "name": "ipython",
    "version": 3
   },
   "file_extension": ".py",
   "mimetype": "text/x-python",
   "name": "python",
   "nbconvert_exporter": "python",
   "pygments_lexer": "ipython3",
   "version": "3.11.9"
  }
 },
 "nbformat": 4,
 "nbformat_minor": 2
}
