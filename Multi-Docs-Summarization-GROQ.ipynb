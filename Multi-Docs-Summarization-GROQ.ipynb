{
 "cells": [
  {
   "cell_type": "markdown",
   "metadata": {},
   "source": [
    "Pipeline"
   ]
  },
  {
   "cell_type": "code",
   "execution_count": 2,
   "metadata": {},
   "outputs": [],
   "source": [
    "import os\n",
    "from groq import Groq"
   ]
  },
  {
   "cell_type": "code",
   "execution_count": 3,
   "metadata": {},
   "outputs": [],
   "source": [
    "groq_api_key = \"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\"\n",
    "client = Groq(api_key=groq_api_key)"
   ]
  },
  {
   "cell_type": "code",
   "execution_count": 4,
   "metadata": {},
   "outputs": [],
   "source": [
    "def summarize_text(text, max_words, retries=3):\n",
    "    prompt = f\"Summarize the following text in approximately {max_words} words:\\n\\n{text}\\n\\nSummary:\"\n",
    "    chat_completion = client.chat.completions.create(\n",
    "        messages=[\n",
    "            {\"role\": \"system\", \"content\": \"You are a helpful assistant that provides concise summaries.\"},\n",
    "            {\"role\": \"user\", \"content\": prompt}\n",
    "        ],\n",
    "        model=\"mixtral-8x7b-32768\",\n",
    "        temperature=1,\n",
    "        top_p=1,\n",
    "        max_tokens=512\n",
    "    )\n",
    "    return chat_completion.choices[0].message.content"
   ]
  },
  {
   "cell_type": "code",
   "execution_count": 5,
   "metadata": {},
   "outputs": [],
   "source": [
    "import PyPDF2\n",
    "import re"
   ]
  },
  {
   "cell_type": "code",
   "execution_count": 6,
   "metadata": {},
   "outputs": [],
   "source": [
    "def clean_text(text):\n",
    "    text = re.sub(r'\\s+', ' ', text)\n",
    "    text = text.strip()\n",
    "    return text"
   ]
  },
  {
   "cell_type": "code",
   "execution_count": 7,
   "metadata": {},
   "outputs": [],
   "source": [
    "def extract_pdf_content(base_path, pdf_file):\n",
    "    full_path = os.path.join(base_path, pdf_file)\n",
    "    with open(full_path, 'rb') as file:\n",
    "        reader = PyPDF2.PdfReader(file)\n",
    "        text = ''\n",
    "        for page in reader.pages:\n",
    "            text += page.extract_text() + '\\n'\n",
    "    return clean_text(text)"
   ]
  },
  {
   "cell_type": "code",
   "execution_count": 8,
   "metadata": {},
   "outputs": [],
   "source": [
    "from langchain.text_splitter import RecursiveCharacterTextSplitter\n",
    "from langchain.schema import Document"
   ]
  },
  {
   "cell_type": "code",
   "execution_count": 9,
   "metadata": {},
   "outputs": [],
   "source": [
    "def splitter_chunks(text, filename):\n",
    "    text_splitter = RecursiveCharacterTextSplitter(chunk_size=1000, chunk_overlap=100)\n",
    "    langchain_doc = Document(page_content=text, metadata={\"source\": filename})\n",
    "    return text_splitter.split_documents([langchain_doc])"
   ]
  },
  {
   "cell_type": "code",
   "execution_count": 10,
   "metadata": {},
   "outputs": [
    {
     "name": "stdout",
     "output_type": "stream",
     "text": [
      "Processing document1.pdf...\n",
      "Processing document2.pdf...\n",
      "Processing document3.pdf...\n",
      "Total number of chunks across all documents: 18\n"
     ]
    }
   ],
   "source": [
    "base_path = 'F:/Super AI SS4/AI-builder/Large-Language-Models-(LLMs)/try-it/Text-Summarization/Dataset/'\n",
    "pdf_files = ['document1.pdf', 'document2.pdf', 'document3.pdf']\n",
    "\n",
    "all_chunks = []\n",
    "\n",
    "for pdf_file in pdf_files:\n",
    "    print(f\"Processing {pdf_file}...\")\n",
    "    content = extract_pdf_content(base_path, pdf_file)\n",
    "    chunks = splitter_chunks(content, pdf_file)\n",
    "    all_chunks.extend(chunks)\n",
    "\n",
    "print(f\"Total number of chunks across all documents: {len(all_chunks)}\")"
   ]
  },
  {
   "cell_type": "code",
   "execution_count": null,
   "metadata": {},
   "outputs": [],
   "source": [
    "'''\n",
    "documents = []\n",
    "\n",
    "for i, pdf_file in enumerate(pdf_files, 1):\n",
    "    content = extract_pdf_content(base_path, pdf_file)\n",
    "    document = {\n",
    "        'id': i,\n",
    "        'filename': pdf_file,\n",
    "        'content': content,\n",
    "        'length': len(content)\n",
    "    }\n",
    "    documents.append(document)\n",
    "\n",
    "for doc in documents:\n",
    "    print(f\"Document ID: {doc['id']}\")\n",
    "    print(f\"Filename: {doc['filename']}\")\n",
    "    print(f\"Content length: {doc['length']} characters\")\n",
    "    print(f\"Preview: {doc['content'][:100]}...\")\n",
    "    print(\"\\n\" + \"=\"*50 + \"\\n\")\n",
    "'''"
   ]
  },
  {
   "cell_type": "code",
   "execution_count": 11,
   "metadata": {},
   "outputs": [],
   "source": [
    "import time"
   ]
  },
  {
   "cell_type": "code",
   "execution_count": 16,
   "metadata": {},
   "outputs": [
    {
     "name": "stdout",
     "output_type": "stream",
     "text": [
      "Summarizing chunk 1/18...\n",
      "Summarizing chunk 2/18...\n",
      "Summarizing chunk 3/18...\n",
      "Summarizing chunk 4/18...\n",
      "Summarizing chunk 5/18...\n",
      "Summarizing chunk 6/18...\n",
      "Summarizing chunk 7/18...\n",
      "Summarizing chunk 8/18...\n",
      "Summarizing chunk 9/18...\n",
      "Summarizing chunk 10/18...\n",
      "Summarizing chunk 11/18...\n",
      "Summarizing chunk 12/18...\n",
      "Summarizing chunk 13/18...\n",
      "Summarizing chunk 14/18...\n",
      "Summarizing chunk 15/18...\n",
      "Summarizing chunk 16/18...\n",
      "Summarizing chunk 17/18...\n",
      "Summarizing chunk 18/18...\n"
     ]
    }
   ],
   "source": [
    "chunk_summaries = []\n",
    "for i, chunk in enumerate(all_chunks, 1):\n",
    "    print(f\"Summarizing chunk {i}/{len(all_chunks)}...\")\n",
    "    summary = summarize_text(chunk.page_content, 100)\n",
    "    if summary:\n",
    "        chunk_summaries.append(summary)\n",
    "    time.sleep(1)"
   ]
  },
  {
   "cell_type": "code",
   "execution_count": 17,
   "metadata": {},
   "outputs": [
    {
     "data": {
      "text/plain": [
       "[\"Climate change, a pressing global issue, involves long-term shifts in temperature and weather patterns primarily caused by human activities since the 20th century. Burning fossil fuels releases greenhouse gases, particularly CO2, trapping heat from the sun and leading to global warming. The Earth has warmed by about 1°C since pre-industrial times, impacting the Earth's energy balance and causing visible effects like melting polar ice and glaciers. This temperature rise, although seemingly small, has significant consequences.\",\n",
       " 'Climate change is causing the polar ice and glaciers to melt at an accelerated rate, particularly in the Arctic which is warming twice as fast as the global average. This contributes to rising sea levels as warming water expands and melting land ice adds more water to the oceans. Coastal communities are at risk of flooding and erosion, with some low-lying island nations facing existential threats. Climate change also alters precipitation patterns, leading to more frequent droughts in some regions and increased heavy rainfall and flooding in others. These changes significantly impact agriculture, water resources, and human settlements. Extreme weather events, such as longer and more intense heatwaves, are becoming more frequent due to climate change.',\n",
       " 'Climate change is causing more frequent and severe heatwaves, hurricanes, and wildfires, with significant impacts on ecosystems and biodiversity. Many plant and animal species are at risk of extinction due to rapidly changing conditions, while ocean acidification threatens marine life, particularly coral reefs and shellfish. Human societies are also affected, with agriculture being particularly vulnerable as changing weather patterns impact crop yields and food security. Extreme weather events can cause damage to infrastructure and disrupt daily life.',\n",
       " 'Climate change, marked by extreme weather events and rising temperatures, threatens crop yields, food security, and leads to displacement. The international community is responding through agreements like the Paris Agreement, which aims to limit global warming to under 2°C above pre-industrial levels by reducing greenhouse gas emissions and transitioning to cleaner energy sources, such as solar and wind power. Energy efficiency improvements are also vital in buildings, transportation, and industry. Despite mitigation efforts, some level of further warming is unavoidable due to greenhouse gas longevity, necessitating adaptation strategies to manage climate change impacts.',\n",
       " 'The text emphasizes the importance of adaptation strategies to deal with unavoidable impacts of climate change, a pressing issue affecting various aspects of life and the environment. Adapting to climate change involves understanding its root causes, consequences, and possible remedies, which is essential for collective action at individual, community, and national levels. This understanding fosters collaboration in addressing the global challenge of climate change.',\n",
       " 'Climate change significantly impacts the environment, ecosystems, biodiversity, and natural resources worldwide as the Earth\\'s average temperature rises. Biodiversity is affected as many species struggle to adapt to rapid changes, causing shifts in geographic ranges, alterations in biological events, and potential extinction. Climate change particularly affects species with long generation times or limited mobility. Coral reefs, known as the \"rainforests of the sea,\" are highly vulnerable, with rising ocean temperatures causing coral bleaching. This occurs when corals expel algae, leaving them white and susceptible to death in severe or prolonged bleaching events.',\n",
       " 'Climate change adversely affects various ecosystems. Coral reefs are bleaching due to increased ocean temperatures, which can lead to colony death, threatening these biodiverse habitats. Forests, especially boreal ones, are experiencing altered growth patterns with longer growing seasons but increased mortality due to droughts, fires, and pests. Changes in the water cycle cause droughts and flooding, impacting freshwater ecosystems, agriculture, and water supply. In polar regions, climate change impacts are dramatic, including rapid ice melt and altered wildlife behavior. These changes highlight the urgent need to address climate change and its wide-ranging ecological consequences.',\n",
       " \"Climate change has significant impacts on the Earth's various systems, particularly in polar regions where warming occurs at more than twice the global average rate. This rapid warming leads to sea ice loss in the Arctic, affectingspecies like polar bears and seals, and contributes to global sea level rise due to melting land-based ice in Greenland and Antarctica. Ocean acidification, a result of increased CO2 absorption by seawater, poses challenges for marine organisms building calcium carbonate shells or skeletons, potentially disrupting marine food webs. Climate change also influences wildfire frequency and intensity. These changes have far-reaching consequences, threatening coastal and marine ecosystems, and wildlife populations worldwide.\",\n",
       " \"Climate change significantly impacts marine food webs and terrestrial ecosystems. Increased frequency and intensity of wildfires, due to longer, hotter dry seasons, can overcome ecosystems' recovery capabilities. Melting permafrost in the Arctic releases greenhouse gases, creating a feedback loop of further warming and more permafrost thaw. Temperature and precipitation pattern changes cause phenological shifts, leading to mismatches between interdependent species. Invasive species, another concern, may thrive in changing climates and outcompete native species, further disrupting ecosystems. These changes pose serious threats to biodiversity and demonstrate the interconnectedness of global ecosystems.\",\n",
       " 'Climate change significantly impacts ecosystems by altering habitats and threatening biodiversity through rising temperatures, shifting seasons, and increasing ocean acidity. Invasive species exacerbate these challenges as warmer temperatures enable them to expand into new regions, endangering native species. Melting ice in polar and high-mountain regions disrupts global air and ocean circulation, affecting weather patterns worldwide. Climate change also intensifies other environmental stressors like habitat loss, pollution, and overexploitation of resources, pushing ecosystems toward tipping points where rapid, irreversible changes may occur. Preserving biodiversity, maintaining ecosystem services, and ensuring food security depend on understanding and addressing these environmental impacts.',\n",
       " \"Addressing environmental impacts is essential for preserving biodiversity, sustaining ecosystem services, and ensuring the planet's long-term health. This involves mitigating additional climate change and developing strategies for natural systems to adapt to current alterations. The preservation of our environment is a pressing issue that requires immediate and comprehensive action.\",\n",
       " 'Climate change has severe and intricate economic consequences, impacting various global economy sectors directly and indirectly. A significant economic impact is the surge in extreme weather events, such as hurricanes, floods, droughts, and wildfires, causing billions in damages annually. This heavily affects the insurance industry, leading to increased claims, higher premiums, and potential coverage unavailability in high-risk areas. Agriculture, being climate-dependent, faces significant challenges due to changing temperature and precipitation patterns. These consequences threaten economic stability, development, and prosperity in vulnerable regions, making climate change an economically urgent issue.',\n",
       " 'Climate change poses significant challenges to various sectors. In agriculture, shifts in temperature and precipitation patterns impact crop yields and suitable farming locations, potentially threatening global food security and prices. Though some regions may initially benefit from extended growing seasons, many face reduced productivity due to heat stress, altered pest/disease patterns, and water scarcity. The energy sector experiences transformation due to decarbonization efforts, leading to investments in renewable energy but causing difficulties for fossil fuel-dependent communities. Infrastructure adaptation costs are also substantial. Tourism faces impacts from climate change, including altered visitor preferences, increased extreme weather events, and threats to biodiversity. Overall, addressing climate change requires significant adjustments and investments across multiple sectors.',\n",
       " 'Climate change significantly impacts various global industries. The agriculture sector faces challenges like crop failures, pest proliferation, and altered growing seasons. Tourism, particularly coastal resorts and winter sports destinations, confronts rising sea levels, intense storms, and shifting ecosystems, necessitating costly adaptations. The real estate market sees property value declines in high-risk areas and increases in safer places, leading to potential wealth distribution shifts and local tax base challenges. Transportation infrastructure, such as roads, railways, and ports, is vulnerable to climate impacts like extreme heat, requiring proactive measures to ensure resilience. These industry impacts have considerable economic consequences for communities worldwide.',\n",
       " 'Infrastructure, human health, and the economy are all at risk due to climate change, with costs expected to rise over time. Extreme heat, flooding, and sea-level rise threaten roads, railways, and ports, requiring significant funds for resiliency measures. Health issues may increase due to disease prevalence, heat-related illnesses, and air quality problems, leading to higher healthcare costs, reduced labor productivity, and pressure on public health systems. Although the transition to a low-carbon economy is crucial for mitigating climate change, it presents challenges for industries and regions dependent on fossil fuels, possibly causing job losses and economic disruption. However, this transition also offers opportunities for new industries, technologies, and jobs in the green economy.',\n",
       " 'Climate change presents opportunities for new industries and job creation in the green economy, while reshaping global trade patterns through alterations in agricultural productivity and the emergence of new shipping routes. Financial markets are increasingly considering climate risks, including physical risks like extreme weather damage and transition risks from policy changes, technological shifts, and changing consumer preferences. Managing and disclosing these risks are increasingly important in corporate governance and investment strategies. Adaptation measures are necessary but expensive, involving costs for infrastructure improvements like sea walls, drought-resistant crops, and water management systems.',\n",
       " 'Addressing climate change requires significant investments in adaptation measures like improving croplands and water management systems, particularly for developing countries that are more vulnerable due to their geographic locations, economic structures, and limited resources. The unequal distribution of climate change impacts could widen global economic inequalities. Climate-related events can disrupt supply chains, cause price shocks in commodities, or trigger migrations, affecting economies beyond the directly impacted regions. Despite these challenges, addressing climate change also offers economic opportunities.',\n",
       " 'Tackling climate change offers significant economic opportunities, such as promoting clean technology, building resilient infrastructure, and encouraging sustainable practices across industries. These measures can stimulate innovation, establish new markets, and generate jobs. However, the economic impacts of climate change also highlight the necessity for extensive, worldwide action to reduce future warming and adapt to existing changes. Addressing this issue involves not just technological advancements but also policy innovations, international cooperation, and a profound shift in how we perceive and engage with nature within our economic systems.']"
      ]
     },
     "execution_count": 17,
     "metadata": {},
     "output_type": "execute_result"
    }
   ],
   "source": [
    "chunk_summaries"
   ]
  },
  {
   "cell_type": "code",
   "execution_count": 18,
   "metadata": {},
   "outputs": [
    {
     "name": "stdout",
     "output_type": "stream",
     "text": [
      "Climate change, a pressing global issue, is causing long-term shifts in temperature and weather patterns due to human activities since the 20th century, primarily from burning fossil fuels. This releases greenhouse gases, particularly CO2, trapping heat from the sun and leading to global warming. The Earth has warmed by about 1°C since pre-industrial times, impacting the Earth's energy balance and causing visible effects like melting polar ice and glaciers.\n",
      "\n",
      "Climate change has severe consequences, causing the polar ice and glaciers to melt at an accelerated rate, leading to rising sea levels and threatening coastal communities with flooding and erosion. It alters precipitation patterns, leading to more frequent droughts and heavy rainfall, affecting agriculture, water resources, and human settlements. Extreme weather events, such as longer and intense heatwaves, hurricanes, and wildfires, are becoming more frequent due to climate change, impacting ecosystems, biodiversity, and human societies.\n",
      "\n",
      "Climate change significantly impacts various aspects of life and the environment, threatening crop yields, food security, and leading to displacement. The international community is responding through agreements like the Paris Agreement, aiming to limit global warming by reducing greenhouse gas emissions and transitioning to cleaner energy sources. Despite mitigation efforts, some level of further warming is unavoidable due to greenhouse gas longevity, necessitating adaptation strategies to manage climate change impacts.\n",
      "\n",
      "Addressing climate change requires significant investments in adaptation measures, policy innovations, international cooperation, and a profound shift in how we perceive and engage with nature within our economic systems. Despite the challenges, tackling climate change offers significant economic opportunities, such as promoting clean technology, building resilient infrastructure, and encouraging sustainable practices across industries.\n"
     ]
    }
   ],
   "source": [
    "combined_summaries = \"\\n\\n\".join(chunk_summaries)\n",
    "final_summary = summarize_text(combined_summaries, 250)\n",
    "\n",
    "print(final_summary)"
   ]
  },
  {
   "cell_type": "code",
   "execution_count": null,
   "metadata": {},
   "outputs": [],
   "source": []
  }
 ],
 "metadata": {
  "kernelspec": {
   "display_name": "Python 3",
   "language": "python",
   "name": "python3"
  },
  "language_info": {
   "codemirror_mode": {
    "name": "ipython",
    "version": 3
   },
   "file_extension": ".py",
   "mimetype": "text/x-python",
   "name": "python",
   "nbconvert_exporter": "python",
   "pygments_lexer": "ipython3",
   "version": "3.11.9"
  }
 },
 "nbformat": 4,
 "nbformat_minor": 2
}
