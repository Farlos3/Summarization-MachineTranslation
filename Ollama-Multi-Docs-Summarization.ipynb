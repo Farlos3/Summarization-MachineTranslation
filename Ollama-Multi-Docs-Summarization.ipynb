{
 "cells": [
  {
   "cell_type": "code",
   "execution_count": 1,
   "metadata": {},
   "outputs": [],
   "source": [
    "from langchain.docstore.document import Document\n",
    "from PyPDF2 import PdfReader\n",
    "import os"
   ]
  },
  {
   "cell_type": "code",
   "execution_count": 2,
   "metadata": {},
   "outputs": [],
   "source": [
    "base_path = 'F:/Super AI SS4/AI-builder/Large-Language-Models-(LLMs)/try-it/Text-Summarization/Dataset/'\n",
    "pdf_files = ['document1.pdf', 'document2.pdf', 'document3.pdf']"
   ]
  },
  {
   "cell_type": "code",
   "execution_count": 3,
   "metadata": {},
   "outputs": [],
   "source": [
    "def read_pdf(file_path):\n",
    "    with open(file_path, 'rb') as file:\n",
    "        pdf = PdfReader(file)\n",
    "        text = ''\n",
    "        for page in pdf.pages:\n",
    "            text += page.extract_text()\n",
    "    return text"
   ]
  },
  {
   "cell_type": "code",
   "execution_count": 4,
   "metadata": {},
   "outputs": [],
   "source": [
    "documents = []\n",
    "for pdf_file in pdf_files:\n",
    "    file_path = os.path.join(base_path, pdf_file)\n",
    "    text = read_pdf(file_path)\n",
    "    documents.append(Document(page_content=text, metadata={\"source\": pdf_file}))"
   ]
  },
  {
   "cell_type": "code",
   "execution_count": 5,
   "metadata": {},
   "outputs": [
    {
     "data": {
      "text/plain": [
       "[Document(page_content=\"Climate change is one of the most pressing global challenges of our time. It refers to \\nlong-term shifts in temperature and weather patterns across the Earth. While these \\nchanges can occur naturally, the rapid warming we've seen over the past century is \\nprimarily due to human activities.  \\n \\nThe main driver of current climate change is the burning of fossil fuels like coal, oil, \\nand natural gas. These activities release greenhouse gases, primarily carbon dioxide \\n(CO2), into the atmosphere. Greenhouse gases trap heat from the sun, causing the \\nEarth's average temperature to rise – a phenomenon known as global warming.  \\n \\nThe evidence for climate change is unequivocal. Global temperature records show \\nthat the Earth has warmed by approximately 1°C since pre -industrial times. This may \\nseem small, but it represents a significant change in the Earth's energy balance and \\nhas far-reaching consequences.  \\n \\nOne of the most visible effects of climate change is the melting of polar ice and \\nglaciers. The Arctic is warming twice as fast as the global average, leading to dramatic \\nreductions in sea ice. This not only affects Arctic ecosystems but also contributes t o \\nrising sea levels worldwide.  \\n \\nSea level rise is another major concern. As water warms, it expands, and melting land \\nice adds more water to the oceans. This puts coastal communities at risk of flooding \\nand erosion. Some low -lying island nations are already facing existential threats fro m \\nrising seas.  \\n Climate change is also altering precipitation patterns around the world. Some regions \\nare experiencing more frequent and intense droughts, while others are seeing \\nincreases in heavy rainfall and flooding. These changes have significant implications \\nfor agriculture, water resources, and human settlements.  \\n \\nExtreme weather events are becoming more frequent and severe due to climate \\nchange. Heatwaves are lasting longer and reaching higher temperatures. Hurricanes \\nand tropical storms are intensifying, fueled by warmer ocean waters. Wildfires are \\nburning larger areas and occurring in places where they were once rare.  \\n \\nThe impacts of climate change extend to ecosystems and biodiversity. Many plant \\nand animal species are struggling to adapt to rapidly changing conditions. Some are \\nshifting their ranges to cooler areas, while others face the risk of extinction if they \\ncannot adapt quickly enough.  \\n \\nOcean acidification is another consequence of increased CO2 in the atmosphere. As \\nthe ocean absorbs more CO2, it becomes more acidic, threatening marine \\necosystems, particularly coral reefs and shellfish.  \\n \\nHuman societies are also feeling the effects of climate change. Agriculture is \\nparticularly vulnerable, with changing weather patterns affecting crop yields and food \\nsecurity. Extreme weather events can damage infrastructure and disrupt economic \\nactivities. Climate-related displacement and migration are becoming increasingly \\ncommon in some parts of the world.  \\n The urgency of addressing climate change has led to international efforts like the \\nParis Agreement, which aims to limit global warming to well below 2°C above pre -\\nindustrial levels. This requires significant reductions in greenhouse gas emissions and \\na transition to cleaner energy sources.  \\n \\nRenewable energy technologies like solar and wind power are playing a crucial role \\nin this transition. Energy efficiency improvements in buildings, transportation, and \\nindustry are also essential for reducing emissions.  \\n \\nHowever, even with ambitious mitigation efforts, some degree of further warming is \\nlocked in due to the long -lived nature of greenhouse gases in the atmosphere. This \\nmakes adaptation strategies crucial for managing the impacts of climate change that \\nwe cannot avoid.  \\n \\nClimate change is a complex, multifaceted issue that touches on nearly every aspect \\nof our lives and the natural world. Understanding its causes, impacts, and potential \\nsolutions is crucial for individuals, communities, and nations as we work together to \\naddress this global challenge.  \", metadata={'source': 'document1.pdf'}),\n",
       " Document(page_content='The environmental impacts of climate change are profound and far -reaching, \\naffecting ecosystems, biodiversity, and natural resources across the globe. As the \\nEarth\\'s average temperature continues to rise, we are witnessing a cascade of effects \\nthat are reshaping our natural world.  \\n \\nOne of the most significant impacts is on biodiversity. Many species are struggling to \\nadapt to rapidly changing conditions, leading to shifts in their geographic ranges, \\nalterations in the timing of biological events (such as flowering and migration), and  in \\nsome cases, extinction. The rate of climate change is outpacing the ability of many \\nspecies to adapt, particularly those with long generation times or limited mobility.  \\n \\nCoral reefs, often called the \"rainforests of the sea,\" are particularly vulnerable to \\nclimate change. Rising ocean temperatures cause coral bleaching, where corals expel \\nthe colorful algae living in their tissues, leaving them white and vulnerable. Severe  or \\nprolonged bleaching can kill entire coral colonies, devastating these incredibly \\nbiodiverse ecosystems.  \\n \\nForests, another crucial ecosystem, are also feeling the effects of climate change. \\nWarmer temperatures and altered precipitation patterns are changing the \\ncomposition of forests and making them more vulnerable to pests and diseases. In \\nsome regions, parti cularly boreal forests, trees are growing faster due to longer \\ngrowing seasons. However, this is often offset by increased mortality from drought, \\nfires, and insect outbreaks.  \\n \\nClimate change is altering the water cycle on a global scale. Some regions are \\nexperiencing more frequent and severe droughts, while others are seeing increases in precipitation and flooding. These changes have significant implications for freshwater \\necosystems, agriculture, and water availability for human use.  \\n \\nIn polar regions, the impacts of climate change are particularly dramatic. The Arctic is \\nwarming at more than twice the global average rate, leading to rapid sea ice loss. \\nThis not only affects Arctic species like polar bears and seals but also has global \\nimplications, as sea ice plays a crucial role in regulating Earth\\'s climate.  \\n \\nThe melting of land -based ice, particularly in Greenland and Antarctica, is \\ncontributing to sea level rise. This threatens coastal and marine ecosystems, \\nincluding mangroves and salt marshes, which provide crucial habitats and protect \\ncoastlines from storm s. \\n \\nOcean acidification, caused by the absorption of excess CO2 by seawater, is another \\nmajor concern. More acidic waters make it difficult for marine organisms like corals, \\nmollusks, and some plankton to build their calcium carbonate shells or skeletons. \\nThis has potential ripple effects throughout marine food webs.  \\n \\nClimate change is also influencing the frequency and intensity of wildfires in many \\nparts of the world. Longer, hotter dry seasons create conditions conducive to larger \\nand more severe fires. While fire is a natural part of many ecosystems, the increased \\nfrequency and intensity of fires can overwhelm the ability of these systems to \\nrecover.  \\n The thawing of permafrost in Arctic regions is releasing greenhouse gases (methane \\nand CO2) that have been locked in frozen soils for thousands of years. This creates a \\nfeedback loop, where the released gases contribute to further warming, which in turn \\nleads to more permafrost thaw.  \\n \\nChanges in temperature and precipitation patterns are affecting the timing of \\nseasonal events in the natural world, a phenomenon known as phenological shifts. \\nThis can lead to mismatches between interdependent species, such as plants and \\ntheir pollinators,  or predators and their prey.  \\n \\nInvasive species are another concern related to climate change. As temperatures \\nwarm, some invasive plants and animals are able to expand their ranges into areas \\nthat were previously too cold for them to survive. This can put additional pressure \\non native species already struggling with changing conditions.  \\n \\nThe loss of ice in polar and high mountain regions is not only affecting local \\necosystems but also changing global patterns of air and ocean circulation. This has \\nfar-reaching effects on weather patterns around the world.  \\n \\nClimate change is also exacerbating other environmental stressors, such as habitat \\nloss, pollution, and overexploitation of natural resources. The combined effects of \\nthese pressures are pushing many ecosystems towards tipping points, beyond which \\nrapid and potentially irreversible changes may occur.  \\n Understanding and addressing these environmental impacts is crucial for preserving \\nbiodiversity, maintaining ecosystem services, and ensuring the long -term health of \\nour planet. It requires not only efforts to mitigate further climate change but also \\nstrategies to help natural systems adapt to the changes that are already underway.  ', metadata={'source': 'document2.pdf'}),\n",
       " Document(page_content=\"The economic consequences of climate change are far -reaching and complex, \\naffecting various sectors of the global economy in both direct and indirect ways. As \\nthe world grapples with the challenges posed by a changing climate, the economic \\nimplications are  becoming increasingly apparent and urgent.  \\n \\nOne of the most immediate economic impacts of climate change is the increased \\nfrequency and severity of extreme weather events. Hurricanes, floods, droughts, and \\nwildfires are causing billions of dollars in damages each year. The insurance industry \\nis particularly affected, with rising claims leading to higher premiums and, in some \\nhigh-risk areas, the potential unavailability of coverage. This not only affects \\nindividuals and businesses directly but also has broader implications for economic \\nstability and development in vulnerable regions.  \\n \\nAgriculture, a sector directly dependent on climate conditions, is facing significant \\nchallenges. Changes in temperature and precipitation patterns are affecting crop \\nyields and the geographical distribution of suitable farming areas. While some regions \\nmay initially benefit from longer growing seasons, many are experiencing reduced \\nproductivity due to heat stress, changes in pest and disease patterns, and water \\nscarcity. These changes have implications not only for farmers' livelihoods but also \\nfor global food security and prices.  \\n \\nThe energy sector is undergoing a transformation in response to climate change. The \\npush for decarbonization is driving investments in renewable energy sources such as \\nsolar, wind, and hydroelectric power. While this transition presents opportunities for \\ninnovation and job creation, it also poses challenges for regions and communities \\ndependent on fossil fuel industries. The costs of adapting existing infrastructure to be \\nmore resilient to climate impacts are also significant.   \\nTourism, another major global industry, is feeling the effects of climate change. \\nCoastal resorts are threatened by rising sea levels and more intense storms. Winter \\nsports destinations are grappling with shorter snow seasons. Changes in ecosystems \\nare affecting wildlife tourism. These shifts are forcing the industry to adapt, \\nsometimes by diversifying offerings or relocating facilities, which can have significant \\neconomic implications for local communities.  \\n \\nThe real estate market is also being impacted, particularly in coastal and low -lying \\nareas vulnerable to flooding and sea -level rise. Property values in high -risk areas may \\ndecline, while demand increases in areas perceived as more resilient to climate \\nimpacts. This can lead to shifts in wealth distribution and challenges for local tax \\nbases.  \\n \\nTransportation infrastructure, including roads, railways, and ports, is vulnerable to \\nclimate impacts such as extreme heat, flooding, and sea -level rise. The costs of \\nrepairing, upgrading, and relocating infrastructure to be more resilient to these \\nimpacts are substantial and will likely increase over time.  \\n \\nHealth-related economic costs are another significant concern. Climate change is \\nexpected to increase the prevalence of certain diseases, heat -related illnesses, and \\nair quality issues. This can lead to increased healthcare costs, reduced labor \\nproductivity, and strain on public health systems.  \\n \\nThe transition to a low -carbon economy, while necessary to mitigate climate change, \\nalso has economic implications. Industries and regions heavily dependent on fossil fuels may face challenges in the transition, potentially leading to job losses and \\neconomic disruption if not managed carefully. However, this transition also presents \\nopportunities for new industries, technologies, and job creation in the green \\neconomy.  \\n \\nClimate change is also affecting global trade patterns. Changes in agricultural \\nproductivity, the opening of new shipping routes in the Arctic, and the need for \\nclimate-resilient supply chains are all reshaping international trade flows and \\nrelationships.  \\n \\nFinancial markets are increasingly factoring climate risks into their assessments and \\ninvestment decisions. This includes both physical risks (such as damage from extreme \\nweather events) and transition risks (related to policy changes, technological shifts , \\nand changing consumer preferences). The need to disclose and manage these risks is \\nbecoming a significant factor in corporate governance and investment strategies.  \\n \\nAdaptation measures, while necessary, also come with significant costs. Building sea \\nwalls, developing drought -resistant crops, improving water management systems, and \\nother adaptation strategies require substantial investments. While these measures \\ncan help reduce long -term economic damages, they represent a significant near -term \\neconomic burden, particularly for developing countries.  \\n \\nThe economic impacts of climate change are not evenly distributed. Developing \\ncountries, particularly those in tropical and subtropical regions, are often more \\nvulnerable due to their geographic locations, economic structures, and limited resources for adaptation. This uneven distribution of impacts could exacerbate global \\neconomic inequalities.  \\n \\nClimate change also poses risks to global economic stability. The potential for \\nclimate-related events to disrupt supply chains, cause price shocks in commodities, \\nor trigger large -scale migrations could have far -reaching economic consequences \\nbeyond the i mmediately affected regions.  \\n \\nDespite these challenges, addressing climate change also presents economic \\nopportunities. The development and deployment of clean technologies, the creation \\nof more resilient infrastructure, and the transition to sustainable practices in various \\nindustries can drive innovation, create new markets, and generate employment.  \\n \\nThe economic consequences of climate change underscore the need for \\ncomprehensive, global action to both mitigate further warming and adapt to the \\nchanges already underway. This requires not only technological solutions but also \\npolicy innovations, interna tional cooperation, and a fundamental shift in how we \\nvalue and interact with the natural world in our economic systems.  \", metadata={'source': 'document3.pdf'})]"
      ]
     },
     "execution_count": 5,
     "metadata": {},
     "output_type": "execute_result"
    }
   ],
   "source": [
    "documents"
   ]
  },
  {
   "cell_type": "code",
   "execution_count": 6,
   "metadata": {},
   "outputs": [
    {
     "name": "stdout",
     "output_type": "stream",
     "text": [
      "Climate change is one of the most pressing global challenges of our time. It refers to \n",
      "long-term shifts in temperature and weather patterns across the Earth. While these \n",
      "changes can occur naturally, the rapid warming we've seen over the past century is \n",
      "primarily due to human activities.  \n",
      " \n",
      "The main driver of current climate change is the burning of fossil fuels like coal, oil, \n",
      "and natural gas. These activities release greenhouse gases, primarily carbon dioxide \n",
      "(CO2), into the atmosphere. Greenhouse gases trap heat from the sun, causing the \n",
      "Earth's average temperature to rise – a phenomenon known as global warming.  \n",
      " \n",
      "The evidence for climate change is unequivocal. Global temperature records show \n",
      "that the Earth has warmed by approximately 1°C since pre -industrial times. This may \n",
      "seem small, but it represents a significant change in the Earth's energy balance and \n",
      "has far-reaching consequences.  \n",
      " \n",
      "One of the most visible effects of climate change is the melting of polar ice and \n",
      "glaciers. The Arctic is warming twice as fast as the global average, leading to dramatic \n",
      "reductions in sea ice. This not only affects Arctic ecosystems but also contributes t o \n",
      "rising sea levels worldwide.  \n",
      " \n",
      "Sea level rise is another major concern. As water warms, it expands, and melting land \n",
      "ice adds more water to the oceans. This puts coastal communities at risk of flooding \n",
      "and erosion. Some low -lying island nations are already facing existential threats fro m \n",
      "rising seas.  \n",
      " Climate change is also altering precipitation patterns around the world. Some regions \n",
      "are experiencing more frequent and intense droughts, while others are seeing \n",
      "increases in heavy rainfall and flooding. These changes have significant implications \n",
      "for agriculture, water resources, and human settlements.  \n",
      " \n",
      "Extreme weather events are becoming more frequent and severe due to climate \n",
      "change. Heatwaves are lasting longer and reaching higher temperatures. Hurricanes \n",
      "and tropical storms are intensifying, fueled by warmer ocean waters. Wildfires are \n",
      "burning larger areas and occurring in places where they were once rare.  \n",
      " \n",
      "The impacts of climate change extend to ecosystems and biodiversity. Many plant \n",
      "and animal species are struggling to adapt to rapidly changing conditions. Some are \n",
      "shifting their ranges to cooler areas, while others face the risk of extinction if they \n",
      "cannot adapt quickly enough.  \n",
      " \n",
      "Ocean acidification is another consequence of increased CO2 in the atmosphere. As \n",
      "the ocean absorbs more CO2, it becomes more acidic, threatening marine \n",
      "ecosystems, particularly coral reefs and shellfish.  \n",
      " \n",
      "Human societies are also feeling the effects of climate change. Agriculture is \n",
      "particularly vulnerable, with changing weather patterns affecting crop yields and food \n",
      "security. Extreme weather events can damage infrastructure and disrupt economic \n",
      "activities. Climate-related displacement and migration are becoming increasingly \n",
      "common in some parts of the world.  \n",
      " The urgency of addressing climate change has led to international efforts like the \n",
      "Paris Agreement, which aims to limit global warming to well below 2°C above pre -\n",
      "industrial levels. This requires significant reductions in greenhouse gas emissions and \n",
      "a transition to cleaner energy sources.  \n",
      " \n",
      "Renewable energy technologies like solar and wind power are playing a crucial role \n",
      "in this transition. Energy efficiency improvements in buildings, transportation, and \n",
      "industry are also essential for reducing emissions.  \n",
      " \n",
      "However, even with ambitious mitigation efforts, some degree of further warming is \n",
      "locked in due to the long -lived nature of greenhouse gases in the atmosphere. This \n",
      "makes adaptation strategies crucial for managing the impacts of climate change that \n",
      "we cannot avoid.  \n",
      " \n",
      "Climate change is a complex, multifaceted issue that touches on nearly every aspect \n",
      "of our lives and the natural world. Understanding its causes, impacts, and potential \n",
      "solutions is crucial for individuals, communities, and nations as we work together to \n",
      "address this global challenge.  \n"
     ]
    }
   ],
   "source": [
    "first_file_path = os.path.join(base_path, pdf_files[0])\n",
    "text = read_pdf(first_file_path)\n",
    "print(text)"
   ]
  },
  {
   "cell_type": "code",
   "execution_count": 15,
   "metadata": {},
   "outputs": [],
   "source": [
    "from langchain_community.embeddings import OllamaEmbeddings\n",
    "from langchain_text_splitters import RecursiveCharacterTextSplitter\n",
    "from langchain_community.vectorstores import Chroma"
   ]
  },
  {
   "cell_type": "code",
   "execution_count": 16,
   "metadata": {},
   "outputs": [],
   "source": [
    "text_splitter = RecursiveCharacterTextSplitter(chunk_size=1000, chunk_overlap=100)\n",
    "\n",
    "all_chunks = []\n",
    "for pdf_file in pdf_files:\n",
    "    file_path = os.path.join(base_path, pdf_file)\n",
    "    text = read_pdf(file_path)\n",
    "    doc = Document(page_content=text, metadata={\"source\": pdf_file})\n",
    "    chunks = text_splitter.split_documents([doc])\n",
    "    all_chunks.extend(chunks)"
   ]
  },
  {
   "cell_type": "code",
   "execution_count": 17,
   "metadata": {},
   "outputs": [
    {
     "name": "stdout",
     "output_type": "stream",
     "text": [
      "Number of all chunks = 18\n"
     ]
    },
    {
     "data": {
      "text/plain": [
       "[Document(page_content=\"Climate change is one of the most pressing global challenges of our time. It refers to \\nlong-term shifts in temperature and weather patterns across the Earth. While these \\nchanges can occur naturally, the rapid warming we've seen over the past century is \\nprimarily due to human activities.  \\n \\nThe main driver of current climate change is the burning of fossil fuels like coal, oil, \\nand natural gas. These activities release greenhouse gases, primarily carbon dioxide \\n(CO2), into the atmosphere. Greenhouse gases trap heat from the sun, causing the \\nEarth's average temperature to rise – a phenomenon known as global warming.  \\n \\nThe evidence for climate change is unequivocal. Global temperature records show \\nthat the Earth has warmed by approximately 1°C since pre -industrial times. This may \\nseem small, but it represents a significant change in the Earth's energy balance and \\nhas far-reaching consequences.\", metadata={'source': 'document1.pdf'}),\n",
       " Document(page_content='has far-reaching consequences.  \\n \\nOne of the most visible effects of climate change is the melting of polar ice and \\nglaciers. The Arctic is warming twice as fast as the global average, leading to dramatic \\nreductions in sea ice. This not only affects Arctic ecosystems but also contributes t o \\nrising sea levels worldwide.  \\n \\nSea level rise is another major concern. As water warms, it expands, and melting land \\nice adds more water to the oceans. This puts coastal communities at risk of flooding \\nand erosion. Some low -lying island nations are already facing existential threats fro m \\nrising seas.  \\n Climate change is also altering precipitation patterns around the world. Some regions \\nare experiencing more frequent and intense droughts, while others are seeing \\nincreases in heavy rainfall and flooding. These changes have significant implications \\nfor agriculture, water resources, and human settlements.  \\n \\nExtreme weather events are becoming more frequent and severe due to climate', metadata={'source': 'document1.pdf'}),\n",
       " Document(page_content='Extreme weather events are becoming more frequent and severe due to climate \\nchange. Heatwaves are lasting longer and reaching higher temperatures. Hurricanes \\nand tropical storms are intensifying, fueled by warmer ocean waters. Wildfires are \\nburning larger areas and occurring in places where they were once rare.  \\n \\nThe impacts of climate change extend to ecosystems and biodiversity. Many plant \\nand animal species are struggling to adapt to rapidly changing conditions. Some are \\nshifting their ranges to cooler areas, while others face the risk of extinction if they \\ncannot adapt quickly enough.  \\n \\nOcean acidification is another consequence of increased CO2 in the atmosphere. As \\nthe ocean absorbs more CO2, it becomes more acidic, threatening marine \\necosystems, particularly coral reefs and shellfish.  \\n \\nHuman societies are also feeling the effects of climate change. Agriculture is \\nparticularly vulnerable, with changing weather patterns affecting crop yields and food', metadata={'source': 'document1.pdf'}),\n",
       " Document(page_content='particularly vulnerable, with changing weather patterns affecting crop yields and food \\nsecurity. Extreme weather events can damage infrastructure and disrupt economic \\nactivities. Climate-related displacement and migration are becoming increasingly \\ncommon in some parts of the world.  \\n The urgency of addressing climate change has led to international efforts like the \\nParis Agreement, which aims to limit global warming to well below 2°C above pre -\\nindustrial levels. This requires significant reductions in greenhouse gas emissions and \\na transition to cleaner energy sources.  \\n \\nRenewable energy technologies like solar and wind power are playing a crucial role \\nin this transition. Energy efficiency improvements in buildings, transportation, and \\nindustry are also essential for reducing emissions.  \\n \\nHowever, even with ambitious mitigation efforts, some degree of further warming is \\nlocked in due to the long -lived nature of greenhouse gases in the atmosphere. This', metadata={'source': 'document1.pdf'}),\n",
       " Document(page_content='locked in due to the long -lived nature of greenhouse gases in the atmosphere. This \\nmakes adaptation strategies crucial for managing the impacts of climate change that \\nwe cannot avoid.  \\n \\nClimate change is a complex, multifaceted issue that touches on nearly every aspect \\nof our lives and the natural world. Understanding its causes, impacts, and potential \\nsolutions is crucial for individuals, communities, and nations as we work together to \\naddress this global challenge.', metadata={'source': 'document1.pdf'}),\n",
       " Document(page_content='The environmental impacts of climate change are profound and far -reaching, \\naffecting ecosystems, biodiversity, and natural resources across the globe. As the \\nEarth\\'s average temperature continues to rise, we are witnessing a cascade of effects \\nthat are reshaping our natural world.  \\n \\nOne of the most significant impacts is on biodiversity. Many species are struggling to \\nadapt to rapidly changing conditions, leading to shifts in their geographic ranges, \\nalterations in the timing of biological events (such as flowering and migration), and  in \\nsome cases, extinction. The rate of climate change is outpacing the ability of many \\nspecies to adapt, particularly those with long generation times or limited mobility.  \\n \\nCoral reefs, often called the \"rainforests of the sea,\" are particularly vulnerable to \\nclimate change. Rising ocean temperatures cause coral bleaching, where corals expel \\nthe colorful algae living in their tissues, leaving them white and vulnerable. Severe  or', metadata={'source': 'document2.pdf'}),\n",
       " Document(page_content='the colorful algae living in their tissues, leaving them white and vulnerable. Severe  or \\nprolonged bleaching can kill entire coral colonies, devastating these incredibly \\nbiodiverse ecosystems.  \\n \\nForests, another crucial ecosystem, are also feeling the effects of climate change. \\nWarmer temperatures and altered precipitation patterns are changing the \\ncomposition of forests and making them more vulnerable to pests and diseases. In \\nsome regions, parti cularly boreal forests, trees are growing faster due to longer \\ngrowing seasons. However, this is often offset by increased mortality from drought, \\nfires, and insect outbreaks.  \\n \\nClimate change is altering the water cycle on a global scale. Some regions are \\nexperiencing more frequent and severe droughts, while others are seeing increases in precipitation and flooding. These changes have significant implications for freshwater \\necosystems, agriculture, and water availability for human use.', metadata={'source': 'document2.pdf'}),\n",
       " Document(page_content=\"ecosystems, agriculture, and water availability for human use.  \\n \\nIn polar regions, the impacts of climate change are particularly dramatic. The Arctic is \\nwarming at more than twice the global average rate, leading to rapid sea ice loss. \\nThis not only affects Arctic species like polar bears and seals but also has global \\nimplications, as sea ice plays a crucial role in regulating Earth's climate.  \\n \\nThe melting of land -based ice, particularly in Greenland and Antarctica, is \\ncontributing to sea level rise. This threatens coastal and marine ecosystems, \\nincluding mangroves and salt marshes, which provide crucial habitats and protect \\ncoastlines from storm s. \\n \\nOcean acidification, caused by the absorption of excess CO2 by seawater, is another \\nmajor concern. More acidic waters make it difficult for marine organisms like corals, \\nmollusks, and some plankton to build their calcium carbonate shells or skeletons. \\nThis has potential ripple effects throughout marine food webs.\", metadata={'source': 'document2.pdf'}),\n",
       " Document(page_content='This has potential ripple effects throughout marine food webs.  \\n \\nClimate change is also influencing the frequency and intensity of wildfires in many \\nparts of the world. Longer, hotter dry seasons create conditions conducive to larger \\nand more severe fires. While fire is a natural part of many ecosystems, the increased \\nfrequency and intensity of fires can overwhelm the ability of these systems to \\nrecover.  \\n The thawing of permafrost in Arctic regions is releasing greenhouse gases (methane \\nand CO2) that have been locked in frozen soils for thousands of years. This creates a \\nfeedback loop, where the released gases contribute to further warming, which in turn \\nleads to more permafrost thaw.  \\n \\nChanges in temperature and precipitation patterns are affecting the timing of \\nseasonal events in the natural world, a phenomenon known as phenological shifts. \\nThis can lead to mismatches between interdependent species, such as plants and', metadata={'source': 'document2.pdf'}),\n",
       " Document(page_content='This can lead to mismatches between interdependent species, such as plants and \\ntheir pollinators,  or predators and their prey.  \\n \\nInvasive species are another concern related to climate change. As temperatures \\nwarm, some invasive plants and animals are able to expand their ranges into areas \\nthat were previously too cold for them to survive. This can put additional pressure \\non native species already struggling with changing conditions.  \\n \\nThe loss of ice in polar and high mountain regions is not only affecting local \\necosystems but also changing global patterns of air and ocean circulation. This has \\nfar-reaching effects on weather patterns around the world.  \\n \\nClimate change is also exacerbating other environmental stressors, such as habitat \\nloss, pollution, and overexploitation of natural resources. The combined effects of \\nthese pressures are pushing many ecosystems towards tipping points, beyond which \\nrapid and potentially irreversible changes may occur.', metadata={'source': 'document2.pdf'}),\n",
       " Document(page_content='rapid and potentially irreversible changes may occur.  \\n Understanding and addressing these environmental impacts is crucial for preserving \\nbiodiversity, maintaining ecosystem services, and ensuring the long -term health of \\nour planet. It requires not only efforts to mitigate further climate change but also \\nstrategies to help natural systems adapt to the changes that are already underway.', metadata={'source': 'document2.pdf'}),\n",
       " Document(page_content='The economic consequences of climate change are far -reaching and complex, \\naffecting various sectors of the global economy in both direct and indirect ways. As \\nthe world grapples with the challenges posed by a changing climate, the economic \\nimplications are  becoming increasingly apparent and urgent.  \\n \\nOne of the most immediate economic impacts of climate change is the increased \\nfrequency and severity of extreme weather events. Hurricanes, floods, droughts, and \\nwildfires are causing billions of dollars in damages each year. The insurance industry \\nis particularly affected, with rising claims leading to higher premiums and, in some \\nhigh-risk areas, the potential unavailability of coverage. This not only affects \\nindividuals and businesses directly but also has broader implications for economic \\nstability and development in vulnerable regions.  \\n \\nAgriculture, a sector directly dependent on climate conditions, is facing significant', metadata={'source': 'document3.pdf'}),\n",
       " Document(page_content=\"Agriculture, a sector directly dependent on climate conditions, is facing significant \\nchallenges. Changes in temperature and precipitation patterns are affecting crop \\nyields and the geographical distribution of suitable farming areas. While some regions \\nmay initially benefit from longer growing seasons, many are experiencing reduced \\nproductivity due to heat stress, changes in pest and disease patterns, and water \\nscarcity. These changes have implications not only for farmers' livelihoods but also \\nfor global food security and prices.  \\n \\nThe energy sector is undergoing a transformation in response to climate change. The \\npush for decarbonization is driving investments in renewable energy sources such as \\nsolar, wind, and hydroelectric power. While this transition presents opportunities for \\ninnovation and job creation, it also poses challenges for regions and communities \\ndependent on fossil fuel industries. The costs of adapting existing infrastructure to be\", metadata={'source': 'document3.pdf'}),\n",
       " Document(page_content='dependent on fossil fuel industries. The costs of adapting existing infrastructure to be \\nmore resilient to climate impacts are also significant.   \\nTourism, another major global industry, is feeling the effects of climate change. \\nCoastal resorts are threatened by rising sea levels and more intense storms. Winter \\nsports destinations are grappling with shorter snow seasons. Changes in ecosystems \\nare affecting wildlife tourism. These shifts are forcing the industry to adapt, \\nsometimes by diversifying offerings or relocating facilities, which can have significant \\neconomic implications for local communities.  \\n \\nThe real estate market is also being impacted, particularly in coastal and low -lying \\nareas vulnerable to flooding and sea -level rise. Property values in high -risk areas may \\ndecline, while demand increases in areas perceived as more resilient to climate \\nimpacts. This can lead to shifts in wealth distribution and challenges for local tax \\nbases.', metadata={'source': 'document3.pdf'}),\n",
       " Document(page_content='impacts. This can lead to shifts in wealth distribution and challenges for local tax \\nbases.  \\n \\nTransportation infrastructure, including roads, railways, and ports, is vulnerable to \\nclimate impacts such as extreme heat, flooding, and sea -level rise. The costs of \\nrepairing, upgrading, and relocating infrastructure to be more resilient to these \\nimpacts are substantial and will likely increase over time.  \\n \\nHealth-related economic costs are another significant concern. Climate change is \\nexpected to increase the prevalence of certain diseases, heat -related illnesses, and \\nair quality issues. This can lead to increased healthcare costs, reduced labor \\nproductivity, and strain on public health systems.  \\n \\nThe transition to a low -carbon economy, while necessary to mitigate climate change, \\nalso has economic implications. Industries and regions heavily dependent on fossil fuels may face challenges in the transition, potentially leading to job losses and', metadata={'source': 'document3.pdf'}),\n",
       " Document(page_content='economic disruption if not managed carefully. However, this transition also presents \\nopportunities for new industries, technologies, and job creation in the green \\neconomy.  \\n \\nClimate change is also affecting global trade patterns. Changes in agricultural \\nproductivity, the opening of new shipping routes in the Arctic, and the need for \\nclimate-resilient supply chains are all reshaping international trade flows and \\nrelationships.  \\n \\nFinancial markets are increasingly factoring climate risks into their assessments and \\ninvestment decisions. This includes both physical risks (such as damage from extreme \\nweather events) and transition risks (related to policy changes, technological shifts , \\nand changing consumer preferences). The need to disclose and manage these risks is \\nbecoming a significant factor in corporate governance and investment strategies.  \\n \\nAdaptation measures, while necessary, also come with significant costs. Building sea', metadata={'source': 'document3.pdf'}),\n",
       " Document(page_content='Adaptation measures, while necessary, also come with significant costs. Building sea \\nwalls, developing drought -resistant crops, improving water management systems, and \\nother adaptation strategies require substantial investments. While these measures \\ncan help reduce long -term economic damages, they represent a significant near -term \\neconomic burden, particularly for developing countries.  \\n \\nThe economic impacts of climate change are not evenly distributed. Developing \\ncountries, particularly those in tropical and subtropical regions, are often more \\nvulnerable due to their geographic locations, economic structures, and limited resources for adaptation. This uneven distribution of impacts could exacerbate global \\neconomic inequalities.  \\n \\nClimate change also poses risks to global economic stability. The potential for \\nclimate-related events to disrupt supply chains, cause price shocks in commodities,', metadata={'source': 'document3.pdf'}),\n",
       " Document(page_content='climate-related events to disrupt supply chains, cause price shocks in commodities, \\nor trigger large -scale migrations could have far -reaching economic consequences \\nbeyond the i mmediately affected regions.  \\n \\nDespite these challenges, addressing climate change also presents economic \\nopportunities. The development and deployment of clean technologies, the creation \\nof more resilient infrastructure, and the transition to sustainable practices in various \\nindustries can drive innovation, create new markets, and generate employment.  \\n \\nThe economic consequences of climate change underscore the need for \\ncomprehensive, global action to both mitigate further warming and adapt to the \\nchanges already underway. This requires not only technological solutions but also \\npolicy innovations, interna tional cooperation, and a fundamental shift in how we \\nvalue and interact with the natural world in our economic systems.', metadata={'source': 'document3.pdf'})]"
      ]
     },
     "execution_count": 17,
     "metadata": {},
     "output_type": "execute_result"
    }
   ],
   "source": [
    "print(f\"Number of all chunks = {len(all_chunks)}\")\n",
    "all_chunks"
   ]
  },
  {
   "cell_type": "code",
   "execution_count": 18,
   "metadata": {},
   "outputs": [
    {
     "name": "stderr",
     "output_type": "stream",
     "text": [
      "OllamaEmbeddings: 100%|██████████| 18/18 [00:40<00:00,  2.23s/it]\n"
     ]
    }
   ],
   "source": [
    "embeddings = OllamaEmbeddings(model=\"nomic-embed-text\", show_progress=True)\n",
    "vector_db = Chroma.from_documents(\n",
    "    documents=all_chunks,\n",
    "    embedding=embeddings,\n",
    "    collection_name=\"multi-doc-summary\"\n",
    ")"
   ]
  },
  {
   "cell_type": "code",
   "execution_count": 19,
   "metadata": {},
   "outputs": [],
   "source": [
    "from langchain_community.llms import Ollama\n",
    "from langchain.chains.summarize import load_summarize_chain"
   ]
  },
  {
   "cell_type": "code",
   "execution_count": 20,
   "metadata": {},
   "outputs": [],
   "source": [
    "llm = Ollama(model=\"llama3\")\n",
    "chain = load_summarize_chain(llm, chain_type=\"map_reduce\")"
   ]
  },
  {
   "cell_type": "code",
   "execution_count": 21,
   "metadata": {},
   "outputs": [
    {
     "name": "stdout",
     "output_type": "stream",
     "text": [
      "Here is a concise summary:\n",
      "\n",
      "Climate change refers to long-term shifts in temperature and weather patterns caused by human activities, primarily the burning of fossil fuels. It has far-reaching consequences, including melting polar ice, rising sea levels, altered precipitation patterns, and increased frequency and severity of extreme weather events.\n",
      "\n",
      "The impacts are widespread, affecting ecosystems, biodiversity, agriculture, energy, and economies worldwide. Climate change is causing:\n",
      "\n",
      "* Ecosystem disruptions and biodiversity loss\n",
      "* Increased risk of natural disasters and economic losses\n",
      "* Changes in global food systems and water availability\n",
      "* Threats to human settlements and infrastructure\n",
      "* Displacement and migration\n",
      "\n",
      "To address climate change, we must:\n",
      "\n",
      "* Mitigate its effects through reduced emissions and cleaner energy\n",
      "* Develop strategies for natural systems to adapt to existing changes\n",
      "* Transition to a green economy with opportunities for innovation, job creation, and new markets\n",
      "\n",
      "Comprehensive global action is needed to mitigate the consequences of climate change, requiring technological solutions, policy innovations, international cooperation, and a shift in how we value nature in our economic systems.\n"
     ]
    }
   ],
   "source": [
    "summary = chain.run(all_chunks)\n",
    "\n",
    "print(summary)"
   ]
  },
  {
   "cell_type": "code",
   "execution_count": null,
   "metadata": {},
   "outputs": [],
   "source": []
  }
 ],
 "metadata": {
  "kernelspec": {
   "display_name": "Python 3",
   "language": "python",
   "name": "python3"
  },
  "language_info": {
   "codemirror_mode": {
    "name": "ipython",
    "version": 3
   },
   "file_extension": ".py",
   "mimetype": "text/x-python",
   "name": "python",
   "nbconvert_exporter": "python",
   "pygments_lexer": "ipython3",
   "version": "3.11.9"
  }
 },
 "nbformat": 4,
 "nbformat_minor": 2
}
