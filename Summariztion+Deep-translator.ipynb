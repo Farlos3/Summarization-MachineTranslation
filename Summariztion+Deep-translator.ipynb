{
 "cells": [
  {
   "cell_type": "code",
   "execution_count": 11,
   "metadata": {},
   "outputs": [
    {
     "name": "stdout",
     "output_type": "stream",
     "text": [
      "Requirement already satisfied: deep-translator in c:\\users\\nitro 5\\appdata\\local\\packages\\pythonsoftwarefoundation.python.3.11_qbz5n2kfra8p0\\localcache\\local-packages\\python311\\site-packages (1.11.4)\n",
      "Requirement already satisfied: beautifulsoup4<5.0.0,>=4.9.1 in c:\\users\\nitro 5\\appdata\\local\\packages\\pythonsoftwarefoundation.python.3.11_qbz5n2kfra8p0\\localcache\\local-packages\\python311\\site-packages (from deep-translator) (4.12.3)\n",
      "Requirement already satisfied: requests<3.0.0,>=2.23.0 in c:\\users\\nitro 5\\appdata\\local\\packages\\pythonsoftwarefoundation.python.3.11_qbz5n2kfra8p0\\localcache\\local-packages\\python311\\site-packages (from deep-translator) (2.31.0)\n",
      "Requirement already satisfied: soupsieve>1.2 in c:\\users\\nitro 5\\appdata\\local\\packages\\pythonsoftwarefoundation.python.3.11_qbz5n2kfra8p0\\localcache\\local-packages\\python311\\site-packages (from beautifulsoup4<5.0.0,>=4.9.1->deep-translator) (2.5)\n",
      "Requirement already satisfied: charset-normalizer<4,>=2 in c:\\users\\nitro 5\\appdata\\local\\packages\\pythonsoftwarefoundation.python.3.11_qbz5n2kfra8p0\\localcache\\local-packages\\python311\\site-packages (from requests<3.0.0,>=2.23.0->deep-translator) (3.3.2)\n",
      "Requirement already satisfied: idna<4,>=2.5 in c:\\users\\nitro 5\\appdata\\local\\packages\\pythonsoftwarefoundation.python.3.11_qbz5n2kfra8p0\\localcache\\local-packages\\python311\\site-packages (from requests<3.0.0,>=2.23.0->deep-translator) (3.6)\n",
      "Requirement already satisfied: urllib3<3,>=1.21.1 in c:\\users\\nitro 5\\appdata\\local\\packages\\pythonsoftwarefoundation.python.3.11_qbz5n2kfra8p0\\localcache\\local-packages\\python311\\site-packages (from requests<3.0.0,>=2.23.0->deep-translator) (2.2.2)\n",
      "Requirement already satisfied: certifi>=2017.4.17 in c:\\users\\nitro 5\\appdata\\local\\packages\\pythonsoftwarefoundation.python.3.11_qbz5n2kfra8p0\\localcache\\local-packages\\python311\\site-packages (from requests<3.0.0,>=2.23.0->deep-translator) (2024.2.2)\n"
     ]
    },
    {
     "name": "stderr",
     "output_type": "stream",
     "text": [
      "\n",
      "[notice] A new release of pip is available: 24.0 -> 24.1.1\n",
      "[notice] To update, run: C:\\Users\\Nitro 5\\AppData\\Local\\Microsoft\\WindowsApps\\PythonSoftwareFoundation.Python.3.11_qbz5n2kfra8p0\\python.exe -m pip install --upgrade pip\n"
     ]
    }
   ],
   "source": [
    "!pip install deep-translator"
   ]
  },
  {
   "cell_type": "code",
   "execution_count": 1,
   "metadata": {},
   "outputs": [
    {
     "name": "stderr",
     "output_type": "stream",
     "text": [
      "C:\\Users\\Nitro 5\\AppData\\Local\\Packages\\PythonSoftwareFoundation.Python.3.11_qbz5n2kfra8p0\\LocalCache\\local-packages\\Python311\\site-packages\\huggingface_hub\\file_download.py:1132: FutureWarning: `resume_download` is deprecated and will be removed in version 1.0.0. Downloads always resume when possible. If you want to force a new download, use `force_download=True`.\n",
      "  warnings.warn(\n"
     ]
    },
    {
     "data": {
      "application/vnd.jupyter.widget-view+json": {
       "model_id": "2e096fecdcc04074879c8640fc0cfa6b",
       "version_major": 2,
       "version_minor": 0
      },
      "text/plain": [
       "config.json:   0%|          | 0.00/1.58k [00:00<?, ?B/s]"
      ]
     },
     "metadata": {},
     "output_type": "display_data"
    },
    {
     "name": "stderr",
     "output_type": "stream",
     "text": [
      "C:\\Users\\Nitro 5\\AppData\\Local\\Packages\\PythonSoftwareFoundation.Python.3.11_qbz5n2kfra8p0\\LocalCache\\local-packages\\Python311\\site-packages\\huggingface_hub\\file_download.py:157: UserWarning: `huggingface_hub` cache-system uses symlinks by default to efficiently store duplicated files but your machine does not support them in C:\\Users\\Nitro 5\\.cache\\huggingface\\hub\\models--facebook--bart-large-cnn. Caching files will still work but in a degraded version that might require more space on your disk. This warning can be disabled by setting the `HF_HUB_DISABLE_SYMLINKS_WARNING` environment variable. For more details, see https://huggingface.co/docs/huggingface_hub/how-to-cache#limitations.\n",
      "To support symlinks on Windows, you either need to activate Developer Mode or to run Python as an administrator. In order to see activate developer mode, see this article: https://docs.microsoft.com/en-us/windows/apps/get-started/enable-your-device-for-development\n",
      "  warnings.warn(message)\n"
     ]
    },
    {
     "data": {
      "application/vnd.jupyter.widget-view+json": {
       "model_id": "af1e50df4eb94511861c8fcba164ffc0",
       "version_major": 2,
       "version_minor": 0
      },
      "text/plain": [
       "vocab.json:   0%|          | 0.00/899k [00:00<?, ?B/s]"
      ]
     },
     "metadata": {},
     "output_type": "display_data"
    },
    {
     "data": {
      "application/vnd.jupyter.widget-view+json": {
       "model_id": "c4e175676e9d430bb647d4465ac56d4b",
       "version_major": 2,
       "version_minor": 0
      },
      "text/plain": [
       "merges.txt:   0%|          | 0.00/456k [00:00<?, ?B/s]"
      ]
     },
     "metadata": {},
     "output_type": "display_data"
    },
    {
     "data": {
      "application/vnd.jupyter.widget-view+json": {
       "model_id": "9ccf87da00ea411dbd78f4555f67c690",
       "version_major": 2,
       "version_minor": 0
      },
      "text/plain": [
       "tokenizer.json:   0%|          | 0.00/1.36M [00:00<?, ?B/s]"
      ]
     },
     "metadata": {},
     "output_type": "display_data"
    },
    {
     "data": {
      "application/vnd.jupyter.widget-view+json": {
       "model_id": "586e5b4b3cd043469f005234dd253e4d",
       "version_major": 2,
       "version_minor": 0
      },
      "text/plain": [
       "model.safetensors:   0%|          | 0.00/1.63G [00:00<?, ?B/s]"
      ]
     },
     "metadata": {},
     "output_type": "display_data"
    },
    {
     "data": {
      "application/vnd.jupyter.widget-view+json": {
       "model_id": "c4528de8134c4bbfa906d0a699ccacf9",
       "version_major": 2,
       "version_minor": 0
      },
      "text/plain": [
       "generation_config.json:   0%|          | 0.00/363 [00:00<?, ?B/s]"
      ]
     },
     "metadata": {},
     "output_type": "display_data"
    }
   ],
   "source": [
    "from transformers import AutoTokenizer, AutoModelForSeq2SeqLM\n",
    "\n",
    "tokenizer = AutoTokenizer.from_pretrained(\"facebook/bart-large-cnn\")\n",
    "model = AutoModelForSeq2SeqLM.from_pretrained(\"facebook/bart-large-cnn\")"
   ]
  },
  {
   "cell_type": "code",
   "execution_count": 51,
   "metadata": {},
   "outputs": [
    {
     "data": {
      "application/vnd.jupyter.widget-view+json": {
       "model_id": "7bb20467238b4589a50ff8054c7ce78f",
       "version_major": 2,
       "version_minor": 0
      },
      "text/plain": [
       "pytorch_model.bin:   0%|          | 0.00/2.28G [00:00<?, ?B/s]"
      ]
     },
     "metadata": {},
     "output_type": "display_data"
    },
    {
     "name": "stderr",
     "output_type": "stream",
     "text": [
      "C:\\Users\\Nitro 5\\AppData\\Local\\Packages\\PythonSoftwareFoundation.Python.3.11_qbz5n2kfra8p0\\LocalCache\\local-packages\\Python311\\site-packages\\huggingface_hub\\file_download.py:157: UserWarning: `huggingface_hub` cache-system uses symlinks by default to efficiently store duplicated files but your machine does not support them in C:\\Users\\Nitro 5\\.cache\\huggingface\\hub\\models--google--pegasus-xsum. Caching files will still work but in a degraded version that might require more space on your disk. This warning can be disabled by setting the `HF_HUB_DISABLE_SYMLINKS_WARNING` environment variable. For more details, see https://huggingface.co/docs/huggingface_hub/how-to-cache#limitations.\n",
      "To support symlinks on Windows, you either need to activate Developer Mode or to run Python as an administrator. In order to see activate developer mode, see this article: https://docs.microsoft.com/en-us/windows/apps/get-started/enable-your-device-for-development\n",
      "  warnings.warn(message)\n",
      "Some weights of PegasusForConditionalGeneration were not initialized from the model checkpoint at google/pegasus-xsum and are newly initialized: ['model.decoder.embed_positions.weight', 'model.encoder.embed_positions.weight']\n",
      "You should probably TRAIN this model on a down-stream task to be able to use it for predictions and inference.\n"
     ]
    },
    {
     "data": {
      "application/vnd.jupyter.widget-view+json": {
       "model_id": "bf6a9070bcc34c38b9b5ae6daa54a4eb",
       "version_major": 2,
       "version_minor": 0
      },
      "text/plain": [
       "generation_config.json:   0%|          | 0.00/259 [00:00<?, ?B/s]"
      ]
     },
     "metadata": {},
     "output_type": "display_data"
    }
   ],
   "source": [
    "tokenizer = AutoTokenizer.from_pretrained(\"google/pegasus-xsum\")\n",
    "model = AutoModelForSeq2SeqLM.from_pretrained(\"google/pegasus-xsum\")"
   ]
  },
  {
   "cell_type": "code",
   "execution_count": 17,
   "metadata": {},
   "outputs": [],
   "source": [
    "import fitz"
   ]
  },
  {
   "cell_type": "code",
   "execution_count": 18,
   "metadata": {},
   "outputs": [],
   "source": [
    "def extract_text_from_pdf(pdf_path):\n",
    "    document = fitz.open(pdf_path)\n",
    "    text = \"\"\n",
    "    for page_num in range(document.page_count):\n",
    "        page = document.load_page(page_num)\n",
    "        text += page.get_text()\n",
    "    return text"
   ]
  },
  {
   "cell_type": "code",
   "execution_count": 19,
   "metadata": {},
   "outputs": [],
   "source": [
    "pdf_path = \"F:/Super AI SS4/AI-builder/Large-Language-Models-(LLMs)/try-it/Text-Summarization/Dataset/NASA Asteroid.pdf\"\n",
    "extracted_text = extract_text_from_pdf(pdf_path)"
   ]
  },
  {
   "cell_type": "code",
   "execution_count": 23,
   "metadata": {},
   "outputs": [
    {
     "data": {
      "text/plain": [
       "5097"
      ]
     },
     "execution_count": 23,
     "metadata": {},
     "output_type": "execute_result"
    }
   ],
   "source": [
    "len(extracted_text)"
   ]
  },
  {
   "cell_type": "code",
   "execution_count": 38,
   "metadata": {},
   "outputs": [],
   "source": [
    "from langchain.text_splitter import RecursiveCharacterTextSplitter"
   ]
  },
  {
   "cell_type": "code",
   "execution_count": 39,
   "metadata": {},
   "outputs": [
    {
     "name": "stdout",
     "output_type": "stream",
     "text": [
      "Number of chunks: 6\n"
     ]
    }
   ],
   "source": [
    "text_splitter = RecursiveCharacterTextSplitter(chunk_size=1000, chunk_overlap=100)\n",
    "chunks = text_splitter.split_text(extracted_text)"
   ]
  },
  {
   "cell_type": "code",
   "execution_count": 41,
   "metadata": {},
   "outputs": [
    {
     "data": {
      "text/plain": [
       "6"
      ]
     },
     "execution_count": 41,
     "metadata": {},
     "output_type": "execute_result"
    }
   ],
   "source": [
    "len(chunks)"
   ]
  },
  {
   "cell_type": "code",
   "execution_count": 42,
   "metadata": {},
   "outputs": [
    {
     "data": {
      "text/plain": [
       "['NASA Asteroid Experts Create Hypothetical Impact \\nScenario for Exercise \\nThe fifth Planetary Defense Interagency Tabletop Exercise focused on an asteroid impact \\nscenario designed by NASA JPL’s Center for Near Earth Object Studies. \\nA large asteroid impacting Earth is highly unlikely for the foreseeable future. But because the \\ndamage from such an event could be great, NASA leads hypothetical asteroid impact \\n“tabletop” exercises every two years with experts and decision-makers from federal and \\ninternational agencies to address the many uncertainties of an impact scenario. The most \\nrecent exercise took place this past April, with a preliminary report being issued on June 20. \\nMaking such a scenario realistic and useful for all involved is no small task. Scientists from the \\nCenter for Near Earth Object Studies (CNEOS) at NASA’s Jet Propulsion Laboratory in Southern \\nCalifornia, which specializes in the tracking and orbital determination of asteroids and comets',\n",
       " 'California, which specializes in the tracking and orbital determination of asteroids and comets \\nand finding out if any are hazards to Earth, have played a major role in designing these exercises \\nsince the first 11 years ago. \\n“These hypothetical scenarios are complex and take significant effort to design, so our purpose \\nis to make them useful and challenging for exercise participants and decision-makers to hone \\ntheir processes and procedures to quickly come to a plan of action while addressing gaps in the \\nplanetary defense community’s knowledge,” said JPL’s Paul Chodas, the director of CNEOS. \\nThe Impact Scenario \\nThis year’s scenario: A hypothetical asteroid, possibly several hundred yards across, has been \\ndiscovered, with an estimated 72% chance of impacting Earth in 14 years. Potential impact \\nlocations include heavily populated areas in North America, Southern Europe, and North Africa,',\n",
       " 'locations include heavily populated areas in North America, Southern Europe, and North Africa, \\nbut there is still a 28% chance the asteroid will miss Earth. After several months of being \\ntracked, the asteroid moves too close to the Sun, making further observations impossible for \\nanother seven months. Decision-makers must figure out what to do. \\n \\nExplore asteroids and near-Earth objects in real-time 3D \\n \\n \\nLeading the exercise was NASA’s Planetary Defense Coordination Office (PDCO), the Federal \\nEmergency Management Agency Response Directorate, and the Department of State Office of \\nSpace Affairs. Over the course of two days in April, participants gathered at the Johns Hopkins \\nApplied Physics Laboratory in Laurel, Maryland, which hosted the event, to consider the \\npotential national and global responses to the scenario. \\n“This was a very successful tabletop exercise, with nearly 100 participants from U.S.',\n",
       " '“This was a very successful tabletop exercise, with nearly 100 participants from U.S. \\ngovernment agencies and, for the first time, international planetary defense experts,” said Terik \\nDaly from APL, who coordinated the exercise. “An asteroid impact would have severe national \\nand international ramifications, so should this scenario play out for real, we’d need \\ninternational collaboration.” \\nReality Informs Fiction \\nIn real life, CNEOS calculates the orbit of every known near-Earth object to provide assessments \\nof future potential impact hazards in support of NASA’s planetary defense program. To make \\nthis scenario realistic, the CNEOS team simulated all the observations in the months leading up \\nto the exercise and used orbital determination calculations to simulate the probability of \\nimpact. \\n“At this point in time, the impact was likely but not yet certain, and there were significant',\n",
       " '“At this point in time, the impact was likely but not yet certain, and there were significant \\nuncertainties in the object’s size and the impact location,” said Davide Farnocchia, a navigation \\nengineer at JPL and CNEOS, who led the design of the asteroid’s orbit. “It was interesting to see \\nhow this affected the decision-makers’ choices and how the international community might \\nrespond to a real-world threat 14 years out.” \\nOptions to Deflect \\nPreparation, planning, and decision-making have been key focal points of all five exercises that \\nhave taken place over the past 11 years. For instance, could a reconnaissance spacecraft be \\nsent to the asteroid to gather additional data on its orbit and better determine its size and \\nmass? Would it also be feasible to attempt deflecting the asteroid so that it would miss Earth? \\nThe viability of this method was recently demonstrated by NASA’s Double Asteroid Redirection',\n",
       " 'The viability of this method was recently demonstrated by NASA’s Double Asteroid Redirection \\nTest (DART), which impacted the asteroid moonlet Dimorphos on Sept. 26, 2022, slightly \\nchanging its trajectory. Other methods of deflection have also been considered during the \\nexercises. \\nBut any deflection or reconnaissance mission would need many years of preparation, requiring \\nthe use of advanced observatories capable of finding hazardous asteroids as early as possible. \\nNASA’s Near-Earth Object Surveyor, or NEO Surveyor, is one such observatory. Managed by JPL \\nand planned for launch in late 2027, the infrared space telescope will detect light and dark \\nasteroids, including those that orbit near the Sun. In doing so, NEO Surveyor will support PDCO’s \\nobjectives to discover any hazardous asteroids as early as possible so that there would be more \\ntime to launch a deflection mission to potential threats.']"
      ]
     },
     "execution_count": 42,
     "metadata": {},
     "output_type": "execute_result"
    }
   ],
   "source": [
    "chunks"
   ]
  },
  {
   "cell_type": "code",
   "execution_count": 45,
   "metadata": {},
   "outputs": [
    {
     "data": {
      "text/plain": [
       "'NASA Asteroid Experts Create Hypothetical Impact \\nScenario for Exercise \\nThe fifth Planetary Defense Interagency Tabletop Exercise focused on an asteroid impact \\nscenario designed by NASA JPL’s Center for Near Earth Object Studies. \\nA large asteroid impacting Earth is highly unlikely for the foreseeable future. But because the \\ndamage from such an event could be great, NASA leads hypothetical asteroid impact \\n“tabletop” exercises every two years with experts and decision-makers from federal and \\ninternational agencies to address the many uncertainties of an impact scenario. The most \\nrecent exercise took place this past April, with a preliminary report being issued on June 20. \\nMaking such a scenario realistic and useful for all involved is no small task. Scientists from the \\nCenter for Near Earth Object Studies (CNEOS) at NASA’s Jet Propulsion Laboratory in Southern \\nCalifornia, which specializes in the tracking and orbital determination of asteroids and comets'"
      ]
     },
     "execution_count": 45,
     "metadata": {},
     "output_type": "execute_result"
    }
   ],
   "source": [
    "chunks[0]"
   ]
  },
  {
   "cell_type": "code",
   "execution_count": 52,
   "metadata": {},
   "outputs": [],
   "source": [
    "def summarize_text(text, max_length=300, min_length=100, num_beams=4):\n",
    "    inputs = tokenizer.encode(\"summarize: \" + text, return_tensors=\"pt\", max_length=1024, truncation=True)\n",
    "    summary_ids = model.generate(inputs, max_length=max_length, min_length=min_length, num_beams=num_beams, length_penalty=2.0, early_stopping=True)\n",
    "    summary = tokenizer.decode(summary_ids[0], skip_special_tokens=True)\n",
    "    \n",
    "    return summary"
   ]
  },
  {
   "cell_type": "markdown",
   "metadata": {},
   "source": [
    "### Summarize each chunk"
   ]
  },
  {
   "cell_type": "code",
   "execution_count": 53,
   "metadata": {},
   "outputs": [
    {
     "data": {
      "text/plain": [
       "['Asteroid experts at NASA’s Jet Propulsion Laboratory (JPL) in California have created a realistic asteroid impact scenario that could be used to prepare the US and international space communities for the event of a large space rock hitting Earth, as well as to assess the effects of such an event on the Earth’s atmosphere, oceans, and other vital systems, such as power grids and communications networks, as well as to assess the impact’s impact on the Earth’s atmosphere, oceans, and other vital systems.',\n",
       " 'The US space agency’s Jet Propulsion Laboratory (JPL) in Pasadena, California, and the University of California, Los Angeles (UCLA), are hosting their annual asteroid impact exercise (CNEOS), which aims to prepare the public for the potential impact of an asteroid on Earth in the next decade or so, as well as to test the ability of the Earth’s surface protection systems to deal with such an event, and to improve their knowledge of asteroids and comets in the solar system.',\n",
       " 'A tabletop exercise has been held to test the response of the United States to the threat posed by an asteroid that could hit the Earth in the next 100 years, according to the US space agency, NASA, and other federal and state agencies., according to a statement from the US space agency, NASA, and other federal and state agencies, and the Johns Hopkins Applied Physics Laboratory, in Laurel, Maryland, which hosted the event, to consider the potential national and global responses to the scenario, in which an asteroid passes too close to the Sun to be tracked.',\n",
       " 'The Center for Near-Earth Object Studies (CNEOS) at Nasa’s Jet Propulsion Laboratory (APL) and its international partner, the International Space Station (ISS), have conducted a tabletop exercise to test their ability to respond to a potential asteroid impact in the near-Earth asteroid belt between Mars and Jupiter., in collaboration with the European Space Agency (ESA) and the Chinese Academy of Sciences (CAS)., in November 2016., in collaboration with the Chinese Academy of Sciences (CAS).',\n",
       " 'The US space agency has completed its fifth exercise to prepare for the impact of an asteroid that could hit Earth in 15 years, and this time it was on an asteroid that is about the same size as the one that crashed into the moon in 2005... the asteroid that crashed into the moon in 2005 was about the same size as the one that hit the surface of the moon in New York City in 2001... the asteroid that hit the surface of the moon in 2005 was about the same size as the one that hit the surface of the moon in New York City in 2001.',\n",
       " 'The Planetary Defense Coordination Office (PDCO) at Nasa’s Jet Propulsion Laboratory (JPL) is developing a method of deflecting asteroids that pose a potential threat to Earth by changing their course in front of the Sun, in order to prevent them from colliding with the Earth and damaging its atmosphere, as was the case with the asteroid 2014 JO25, which crashed into the Earth’s atmosphere in November 2014.<n> in doing so, NEO Surveyor will support PDCO’s objectives to discover any hazardous asteroids as early as possible so that there would be more time to launch a deflection mission to potential threats.']"
      ]
     },
     "execution_count": 53,
     "metadata": {},
     "output_type": "execute_result"
    }
   ],
   "source": [
    "summaries = [summarize_text(chunk) for chunk in chunks]\n",
    "summaries"
   ]
  },
  {
   "cell_type": "code",
   "execution_count": 55,
   "metadata": {},
   "outputs": [
    {
     "name": "stdout",
     "output_type": "stream",
     "text": [
      "Asteroid experts at NASA’s Jet Propulsion Laboratory (JPL) in California have created a realistic asteroid impact scenario that could be used to prepare the US and international space communities for the event of a large space rock hitting Earth, as well as to assess the effects of such an event on the Earth’s atmosphere, oceans, and other vital systems, such as power grids and communications networks, as well as to assess the impact’s impact on the Earth’s atmosphere, oceans, and other vital systems. The US space agency’s Jet Propulsion Laboratory (JPL) in Pasadena, California, and the University of California, Los Angeles (UCLA), are hosting their annual asteroid impact exercise (CNEOS), which aims to prepare the public for the potential impact of an asteroid on Earth in the next decade or so, as well as to test the ability of the Earth’s surface protection systems to deal with such an event, and to improve their knowledge of asteroids and comets in the solar system. A tabletop exercise has been held to test the response of the United States to the threat posed by an asteroid that could hit the Earth in the next 100 years, according to the US space agency, NASA, and other federal and state agencies., according to a statement from the US space agency, NASA, and other federal and state agencies, and the Johns Hopkins Applied Physics Laboratory, in Laurel, Maryland, which hosted the event, to consider the potential national and global responses to the scenario, in which an asteroid passes too close to the Sun to be tracked. The Center for Near-Earth Object Studies (CNEOS) at Nasa’s Jet Propulsion Laboratory (APL) and its international partner, the International Space Station (ISS), have conducted a tabletop exercise to test their ability to respond to a potential asteroid impact in the near-Earth asteroid belt between Mars and Jupiter., in collaboration with the European Space Agency (ESA) and the Chinese Academy of Sciences (CAS)., in November 2016., in collaboration with the Chinese Academy of Sciences (CAS). The US space agency has completed its fifth exercise to prepare for the impact of an asteroid that could hit Earth in 15 years, and this time it was on an asteroid that is about the same size as the one that crashed into the moon in 2005... the asteroid that crashed into the moon in 2005 was about the same size as the one that hit the surface of the moon in New York City in 2001... the asteroid that hit the surface of the moon in 2005 was about the same size as the one that hit the surface of the moon in New York City in 2001. The Planetary Defense Coordination Office (PDCO) at Nasa’s Jet Propulsion Laboratory (JPL) is developing a method of deflecting asteroids that pose a potential threat to Earth by changing their course in front of the Sun, in order to prevent them from colliding with the Earth and damaging its atmosphere, as was the case with the asteroid 2014 JO25, which crashed into the Earth’s atmosphere in November 2014.<n> in doing so, NEO Surveyor will support PDCO’s objectives to discover any hazardous asteroids as early as possible so that there would be more time to launch a deflection mission to potential threats.\n"
     ]
    }
   ],
   "source": [
    "final_summary = \" \".join(summaries)\n",
    "print(final_summary)"
   ]
  },
  {
   "cell_type": "markdown",
   "metadata": {},
   "source": [
    "### Translate with deep_translator"
   ]
  },
  {
   "cell_type": "code",
   "execution_count": 12,
   "metadata": {},
   "outputs": [],
   "source": [
    "from deep_translator import GoogleTranslator"
   ]
  },
  {
   "cell_type": "code",
   "execution_count": 13,
   "metadata": {},
   "outputs": [],
   "source": [
    "def translate_text(text, source_lang=\"en\", target_lang=\"th\"):\n",
    "    translator = GoogleTranslator(source=source_lang, target=target_lang)\n",
    "    translated_text = translator.translate(text)\n",
    "    return translated_text"
   ]
  },
  {
   "cell_type": "code",
   "execution_count": 56,
   "metadata": {},
   "outputs": [
    {
     "name": "stdout",
     "output_type": "stream",
     "text": [
      "\n",
      "Translated Summary:\n",
      " ผู้เชี่ยวชาญด้านดาวเคราะห์น้อยที่ห้องปฏิบัติการขับเคลื่อนด้วยไอพ่น (JPL) ของ NASA ในแคลิฟอร์เนีย ได้สร้างสถานการณ์การชนดาวเคราะห์น้อยที่สมจริง ซึ่งสามารถใช้เพื่อเตรียมชุมชนอวกาศของสหรัฐอเมริกาและนานาชาติให้พร้อมสำหรับเหตุการณ์หินอวกาศขนาดใหญ่ชนโลก ตลอดจนเพื่อประเมินผลกระทบของ เหตุการณ์ดังกล่าวในชั้นบรรยากาศของโลก มหาสมุทร และระบบสำคัญอื่น ๆ เช่น สายส่งไฟฟ้าและเครือข่ายการสื่อสาร ตลอดจนเพื่อประเมินผลกระทบของผลกระทบที่มีต่อชั้นบรรยากาศของโลก มหาสมุทร และระบบสำคัญอื่น ๆ ห้องปฏิบัติการขับเคลื่อนด้วยไอพ่น (JPL) ขององค์การอวกาศสหรัฐฯ ในเมืองพาซาดีนา แคลิฟอร์เนีย และมหาวิทยาลัยแคลิฟอร์เนีย ลอสแอนเจลิส (UCLA) เป็นเจ้าภาพจัดการฝึกซ้อมชนดาวเคราะห์น้อย (CNEOS) ประจำปี ซึ่งมีเป้าหมายเพื่อเตรียมประชาชนให้พร้อมรับผลกระทบที่อาจเกิดขึ้นจาก ดาวเคราะห์น้อยบนโลกในอีกทศวรรษข้างหน้า เช่นเดียวกับการทดสอบความสามารถของระบบป้องกันพื้นผิวโลกในการจัดการกับเหตุการณ์ดังกล่าว และเพื่อปรับปรุงความรู้เกี่ยวกับดาวเคราะห์น้อยและดาวหางในระบบสุริยะ หน่วยงานอวกาศของสหรัฐฯ, NASA และหน่วยงานรัฐบาลกลางและรัฐอื่นๆ ระบุว่า มีการซ้อมรบบนโต๊ะเพื่อทดสอบการตอบสนองของสหรัฐฯ ต่อภัยคุกคามจากดาวเคราะห์น้อยที่อาจพุ่งชนโลกในอีก 100 ปีข้างหน้า ถึงคำแถลงจากหน่วยงานอวกาศของสหรัฐอเมริกา NASA และหน่วยงานรัฐบาลกลางและรัฐอื่นๆ และห้องปฏิบัติการฟิสิกส์ประยุกต์ของจอห์น ฮอปกินส์ ในเมืองลอเรล รัฐแมริแลนด์ ซึ่งเป็นเจ้าภาพจัดงานดังกล่าว เพื่อพิจารณาถึงการตอบสนองในระดับชาติและระดับโลกต่อสถานการณ์ดังกล่าว ซึ่ง ดาวเคราะห์น้อยโคจรเข้าใกล้ดวงอาทิตย์เกินกว่าจะติดตามได้ ศูนย์ศึกษาวัตถุใกล้โลก (CNEOS) ที่ห้องปฏิบัติการขับเคลื่อนด้วยไอพ่น (APL) ของ NASA และสถานีอวกาศนานาชาติ (ISS) ซึ่งเป็นพันธมิตรระหว่างประเทศ ได้ทำการฝึกซ้อมบนโต๊ะเพื่อทดสอบความสามารถในการตอบสนองต่อผลกระทบจากดาวเคราะห์น้อยที่อาจเกิดขึ้นใน แถบดาวเคราะห์น้อยใกล้โลกระหว่างดาวอังคารและดาวพฤหัสบดี โดยความร่วมมือกับ European Space Agency (ESA) และ Chinese Academy of Sciences (CAS) ในเดือนพฤศจิกายน 2559 โดยความร่วมมือกับ Chinese Academy of Sciences (CAS) หน่วยงานอวกาศของสหรัฐฯ เสร็จสิ้นการฝึกซ้อมครั้งที่ 5 เพื่อเตรียมพร้อมรับผลกระทบของดาวเคราะห์น้อยที่อาจพุ่งชนโลกในรอบ 15 ปี และครั้งนี้เป็นบนดาวเคราะห์น้อยที่มีขนาดใกล้เคียงกับดาวเคราะห์น้อยที่พุ่งชนดวงจันทร์เมื่อปี 2548 ..ดาวเคราะห์น้อยที่พุ่งชนดวงจันทร์ในปี พ.ศ. 2548 มีขนาดใกล้เคียงกับดวงที่พุ่งชนพื้นผิวดวงจันทร์ในนครนิวยอร์กเมื่อปี พ.ศ. 2544 ... ดาวเคราะห์น้อยที่ชนพื้นผิวดวงจันทร์ในปี พ.ศ. 2548 ก็มีขนาดใกล้เคียงกัน ขนาดเท่ากับขนาดที่กระทบพื้นผิวดวงจันทร์ในนครนิวยอร์กเมื่อปี พ.ศ. 2544 สำนักงานประสานงานป้องกันดาวเคราะห์ (PDCO) ที่ห้องปฏิบัติการขับเคลื่อนด้วยไอพ่น (JPL) ของ NASA กำลังพัฒนาวิธีการเบี่ยงเบนดาวเคราะห์น้อยที่อาจก่อให้เกิดภัยคุกคามต่อโลกโดยการเปลี่ยนแปลง เคลื่อนที่ไปหน้าดวงอาทิตย์ เพื่อป้องกันไม่ให้พวกมันชนกับโลกและสร้างความเสียหายให้กับชั้นบรรยากาศของมัน เช่นเดียวกับกรณีดาวเคราะห์น้อย 2014 JO25 ซึ่งพุ่งชนชั้นบรรยากาศโลกเมื่อเดือนพฤศจิกายน 2557<n> ในการทำเช่นนั้น NEO Surveyor จะสนับสนุนวัตถุประสงค์ของ PDCO ในการค้นหาดาวเคราะห์น้อยที่เป็นอันตรายโดยเร็วที่สุด เพื่อจะได้มีเวลามากขึ้นในการปล่อยภารกิจเบี่ยงเบนไปสู่ภัยคุกคามที่อาจเกิดขึ้น\n"
     ]
    }
   ],
   "source": [
    "translated_summary = translate_text(final_summary)\n",
    "print(\"\\nTranslated Summary:\\n\", translated_summary)"
   ]
  }
 ],
 "metadata": {
  "kernelspec": {
   "display_name": "Python 3",
   "language": "python",
   "name": "python3"
  },
  "language_info": {
   "codemirror_mode": {
    "name": "ipython",
    "version": 3
   },
   "file_extension": ".py",
   "mimetype": "text/x-python",
   "name": "python",
   "nbconvert_exporter": "python",
   "pygments_lexer": "ipython3",
   "version": "3.11.9"
  }
 },
 "nbformat": 4,
 "nbformat_minor": 2
}
